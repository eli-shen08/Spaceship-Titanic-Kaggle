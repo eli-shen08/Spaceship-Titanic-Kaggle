{
 "cells": [
  {
   "cell_type": "markdown",
   "id": "49b96b4b",
   "metadata": {
    "papermill": {
     "duration": 0.094628,
     "end_time": "2022-06-30T23:37:20.281420",
     "exception": false,
     "start_time": "2022-06-30T23:37:20.186792",
     "status": "completed"
    },
    "tags": []
   },
   "source": [
    "# 🚀 Spaceship Titanic - 📊 EDA | ML 11 models\n",
    "#### This is my first Kaggle Notebook which I will be using solely for practice.\n",
    "#### If you found this Kernel insightful, please consider upvoting it 👍\n",
    "#### I am all ears if you have any advice :)"
   ]
  },
  {
   "cell_type": "markdown",
   "id": "e3d6b100",
   "metadata": {
    "papermill": {
     "duration": 0.128342,
     "end_time": "2022-06-30T23:37:20.505944",
     "exception": false,
     "start_time": "2022-06-30T23:37:20.377602",
     "status": "completed"
    },
    "tags": []
   },
   "source": [
    "<div style=\"color:white;\n",
    "           display:fill;\n",
    "           background-color:#F4E06D;\n",
    "           font-size:110%;\n",
    "           font-family:Verdana;\n",
    "           letter-spacing:0.5px;\n",
    "           display:flex;\n",
    "           flex-direction: row;\">\n",
    "\n",
    "<h1 style=\"padding: 2rem;\n",
    "          color:black;\n",
    "          text-align:center;\n",
    "          margin:0 auto;\n",
    "          font-size:3rem;\">\n",
    "   THE NOTEBOOK CONTAINS THE FOLLOWING SECTIONS:\n",
    "</h1>\n",
    " \n",
    "</div>\n",
    "<div style=\"\n",
    "           display:fill;\n",
    "           background-color:#F4E06D;\n",
    "           font-size:110%;\n",
    "           font-family:Verdana;\n",
    "           letter-spacing:0.5px;\n",
    "           display:flex;\n",
    "           flex-direction: row;\n",
    "           justify-content: center\"\n",
    "     >\n",
    "<ul style=\"\n",
    "           background-color:#F4E06D;\n",
    "           margin-left: 2rem;\n",
    "               \">\n",
    "\n",
    "<li style=\"color: black;\n",
    "           font-size:1.75rem;\">\n",
    "<text >\n",
    " Problem Description 📄\n",
    "</text>\n",
    "</li>\n",
    "<li style=\"color: black;\n",
    "           font-size:1.75rem;\">\n",
    "\n",
    "<text >\n",
    " Exploratory Data Analysis 🔍📁\n",
    "</text>\n",
    "</li>\n",
    "\n",
    "    \n",
    "<li style=\"color: black;\n",
    "           font-size:1.75rem;\">\n",
    "<text >\n",
    "  Data Visualization 📊📈\n",
    "</text>\n",
    "</li>\n",
    "\n",
    "<li style=\"color: black;\n",
    "           font-size:1.75rem;\">\n",
    "<text >\n",
    "  Data Preprocessing 🏭\n",
    "</text>\n",
    "</li>\n",
    "\n",
    " <li style=\"color: black;\n",
    "           font-size:1.75rem;\">\n",
    "<text >\n",
    "  ML and Model Selection 🤖👨‍💻 (10 Models)\n",
    "  \n",
    "</text>\n",
    "</li> \n",
    "\n",
    " <li style=\"color: red;\n",
    "           font-size:1.75rem;\">\n",
    "<text >\n",
    "  DL section (Coming soon)\n",
    "  \n",
    "</text>\n",
    "</li> \n",
    "    \n",
    "</ul>\n",
    "</div>"
   ]
  },
  {
   "cell_type": "markdown",
   "id": "1f292d8a",
   "metadata": {
    "papermill": {
     "duration": 0.091913,
     "end_time": "2022-06-30T23:37:20.690317",
     "exception": false,
     "start_time": "2022-06-30T23:37:20.598404",
     "status": "completed"
    },
    "tags": []
   },
   "source": [
    "## Table of Contents:\n",
    "[A) PROBLEM DESCRIPTION](#1)\n",
    "* [1. OBJECTIVE](#2)\n",
    "* [2. ABOUT THE GIVEN DATASETS](#3)\n",
    "* [3. EVALUATION METRICS USED](#4)\n",
    "\n",
    "[B) WORK](#5)\n",
    "* [4. IMPORTING RELEVANT LIBRARIES](#6)\n",
    "* [5. READING DATA](#7)\n",
    "* [6. EXPLORATORY DATA ANALYSIS AND VISUALIZATION](#8)\n",
    "    - [6.1 View Data Types of Predictors and Target Variables](#9)\n",
    "    - [6.2 Analysis of Missing Values](#10)\n",
    "    - [6.3 Data Analysis of Individual Predictors](#11)\n",
    "* [7. DATA PREPROCESSING](#12)\n",
    "* [8. MACHINE LEARNING](#13)\n",
    "\n",
    "\n",
    "\n",
    "\n"
   ]
  },
  {
   "cell_type": "markdown",
   "id": "8ad7c682",
   "metadata": {
    "papermill": {
     "duration": 0.109267,
     "end_time": "2022-06-30T23:37:20.902887",
     "exception": false,
     "start_time": "2022-06-30T23:37:20.793620",
     "status": "completed"
    },
    "tags": []
   },
   "source": [
    "<div id=1 style=\"color:white;\n",
    "           display:fill;\n",
    "           border-radius:10px;\n",
    "           background-color:#36AE7C;\n",
    "           font-size:110%;\n",
    "           font-family:Verdana;\n",
    "           letter-spacing:0.5px;\n",
    "           display:flex;\n",
    "           justify-content:center;\">\n",
    "\n",
    "<h1 style=\"padding: 2.5rem;\n",
    "          color:white;\n",
    "          text-align:center;\n",
    "          margin:0 auto;\n",
    "          font-size:3rem;\">\n",
    "   Problem Description\n",
    "</h1>\n",
    "</div>"
   ]
  },
  {
   "cell_type": "markdown",
   "id": "4f6868a9",
   "metadata": {
    "papermill": {
     "duration": 0.093942,
     "end_time": "2022-06-30T23:37:21.092763",
     "exception": false,
     "start_time": "2022-06-30T23:37:20.998821",
     "status": "completed"
    },
    "tags": []
   },
   "source": [
    "<div id = 2 style=\"color:white;    \n",
    "           display:fill;\n",
    "           border-radius:5px;\n",
    "           background-color:#5642C5;\n",
    "           font-size:110%;\n",
    "           font-family:Verdana;\n",
    "           letter-spacing:0.5px;\n",
    "           display:flex;\n",
    "            justify-content:center;\">\n",
    "\n",
    "<h2 style=\"padding: 2rem;\n",
    "              color:white;\n",
    "          text-align:center;\n",
    "          margin:0 auto;\n",
    "          \">\n",
    "Objective ⛳\n",
    "</h2>\n",
    "</div>"
   ]
  },
  {
   "cell_type": "markdown",
   "id": "95be0dae",
   "metadata": {
    "papermill": {
     "duration": 0.093046,
     "end_time": "2022-06-30T23:37:21.278981",
     "exception": false,
     "start_time": "2022-06-30T23:37:21.185935",
     "status": "completed"
    },
    "tags": []
   },
   "source": [
    "The Spaceship Titanic Competition wants the participants to predict whether a passanger was successfuly transported to an alternate dimension. In order to make these predictions, we are provided with both training and testing datasets for which we will appy data exploration and preprocessing techniques in order to reach our end goal.\n"
   ]
  },
  {
   "cell_type": "markdown",
   "id": "65acd91b",
   "metadata": {
    "papermill": {
     "duration": 0.094008,
     "end_time": "2022-06-30T23:37:21.466774",
     "exception": false,
     "start_time": "2022-06-30T23:37:21.372766",
     "status": "completed"
    },
    "tags": []
   },
   "source": [
    "<div id = 3 style=\"color:white;    \n",
    "           display:fill;\n",
    "           border-radius:5px;\n",
    "           background-color:#5642C5;\n",
    "           font-size:110%;\n",
    "           font-family:Verdana;\n",
    "           letter-spacing:0.5px;\n",
    "           display:flex;\n",
    "            justify-content:center;\">\n",
    "\n",
    "<h2 style=\"padding: 2rem;\n",
    "              color:white;\n",
    "          text-align:center;\n",
    "          margin:0 auto;\n",
    "          \">\n",
    "    About the given Datasets 📁📁\n",
    "</h2>\n",
    "</div>"
   ]
  },
  {
   "cell_type": "markdown",
   "id": "167aeaa4",
   "metadata": {
    "papermill": {
     "duration": 0.09279,
     "end_time": "2022-06-30T23:37:21.653335",
     "exception": false,
     "start_time": "2022-06-30T23:37:21.560545",
     "status": "completed"
    },
    "tags": []
   },
   "source": [
    "* PassengerId - A unique Id for each passenger. Each Id takes the form gggg_pp where gggg indicates a group the passenger is travelling with and pp is their number within the group. People in a group are often family members, but not always.\n",
    "* HomePlanet - The planet the passenger departed from, typically their planet of permanent residence.\n",
    "* CryoSleep - Indicates whether the passenger elected to be put into suspended animation for the duration of the voyage. Passengers in cryosleep are confined to their cabins.\n",
    "* Cabin - The cabin number where the passenger is staying. Takes the form deck/num/side, where side can be either P for Port or S for Starboard.\n",
    "Destination - The planet the passenger will be debarking to.\n",
    "* Age - The age of the passenger.\n",
    "* VIP - Whether the passenger has paid for special VIP service during the voyage.\n",
    "* RoomService, FoodCourt, ShoppingMall, Spa, VRDeck - Amount the passenger has billed at each of the Spaceship Titanic's many luxury amenities.\n",
    "* Name - The first and last names of the passenger.\n",
    "\n",
    "* Transported - Whether the passenger was transported to another dimension. This is the target, the column you are trying to predict"
   ]
  },
  {
   "cell_type": "markdown",
   "id": "c93a1037",
   "metadata": {
    "papermill": {
     "duration": 0.170455,
     "end_time": "2022-06-30T23:37:21.933501",
     "exception": false,
     "start_time": "2022-06-30T23:37:21.763046",
     "status": "completed"
    },
    "tags": []
   },
   "source": [
    "<div id = 4 style=\"color:white;    \n",
    "           display:fill;\n",
    "           border-radius:5px;\n",
    "           background-color:#5642C5;\n",
    "           font-size:110%;\n",
    "           font-family:Verdana;\n",
    "           letter-spacing:0.5px;\n",
    "           display:flex;\n",
    "            justify-content:center;\">\n",
    "\n",
    "<h2 style=\"padding: 2rem;\n",
    "              color:white;\n",
    "          text-align:center;\n",
    "          margin:0 auto;\n",
    "          \">\n",
    "    Evaluation Metrics Used 📏\n",
    "</h2>\n",
    "</div>"
   ]
  },
  {
   "cell_type": "markdown",
   "id": "e53f4ec1",
   "metadata": {
    "papermill": {
     "duration": 0.153335,
     "end_time": "2022-06-30T23:37:22.242271",
     "exception": false,
     "start_time": "2022-06-30T23:37:22.088936",
     "status": "completed"
    },
    "tags": []
   },
   "source": [
    "### Based on the problem, we will use the Accuracy metric, perfect for classification.\n",
    "$Accuracy = \\frac{Number of Correct Predictions}{Total Number of Predictions Made} = \\frac{TP + TN}{ TP + FP + TN + FN}$\n",
    "\n",
    "TP: True Positives\n",
    "\n",
    "FP: False Positivies\n",
    "\n",
    "TN: True Negatives\n",
    "\n",
    "FN: False Negatives\n",
    "\n",
    "#### If you want to learn more about which metrics to use in your Machine Learning Problem, visit: \n",
    "https://towardsdatascience.com/metrics-to-evaluate-your-machine-learning-algorithm-f10ba6e38234"
   ]
  },
  {
   "cell_type": "markdown",
   "id": "0d3d1a88",
   "metadata": {
    "papermill": {
     "duration": 0.092418,
     "end_time": "2022-06-30T23:37:22.456754",
     "exception": false,
     "start_time": "2022-06-30T23:37:22.364336",
     "status": "completed"
    },
    "tags": []
   },
   "source": [
    "\n",
    "<div id = 5 style=\"color:white;\n",
    "           display:fill;\n",
    "           border-radius:10px;\n",
    "           background-color:#36AE7C;\n",
    "           font-size:110%;\n",
    "           font-family:Verdana;\n",
    "           letter-spacing:0.5px;\n",
    "           display:flex;\n",
    "           justify-content:center;\">\n",
    "\n",
    "<h1 style=\"padding: 2.5rem;\n",
    "          color:white;\n",
    "          text-align:center;\n",
    "          margin:0 auto;\n",
    "          font-size:3rem;\">\n",
    "   Work 🔨\n",
    "</h1>\n",
    "</div>"
   ]
  },
  {
   "cell_type": "markdown",
   "id": "a5116ffb",
   "metadata": {
    "papermill": {
     "duration": 0.095081,
     "end_time": "2022-06-30T23:37:22.644362",
     "exception": false,
     "start_time": "2022-06-30T23:37:22.549281",
     "status": "completed"
    },
    "tags": []
   },
   "source": [
    "<div id=6 style=\"color:white;    \n",
    "           display:fill;\n",
    "           border-radius:5px;\n",
    "           background-color:#5642C5;\n",
    "           font-size:110%;\n",
    "           font-family:Verdana;\n",
    "           letter-spacing:0.5px;\n",
    "           display:flex;\n",
    "            justify-content:center;\">\n",
    "\n",
    "<h2 style=\"padding: 2rem;\n",
    "              color:white;\n",
    "          text-align:center;\n",
    "          margin:0 auto;\n",
    "          \">\n",
    "Importing relevant libraries 📚📚📚\n",
    "</h2>\n",
    "</div>"
   ]
  },
  {
   "cell_type": "code",
   "execution_count": 1,
   "id": "e1e52daa",
   "metadata": {
    "execution": {
     "iopub.execute_input": "2022-06-30T23:37:22.846186Z",
     "iopub.status.busy": "2022-06-30T23:37:22.845283Z",
     "iopub.status.idle": "2022-06-30T23:37:26.077758Z",
     "shell.execute_reply": "2022-06-30T23:37:26.077150Z",
     "shell.execute_reply.started": "2022-06-30T20:19:27.793065Z"
    },
    "papermill": {
     "duration": 3.339725,
     "end_time": "2022-06-30T23:37:26.077915",
     "exception": false,
     "start_time": "2022-06-30T23:37:22.738190",
     "status": "completed"
    },
    "tags": []
   },
   "outputs": [
    {
     "data": {
      "text/html": [
       "<style type='text/css'>\n",
       ".datatable table.frame { margin-bottom: 0; }\n",
       ".datatable table.frame thead { border-bottom: none; }\n",
       ".datatable table.frame tr.coltypes td {  color: #FFFFFF;  line-height: 6px;  padding: 0 0.5em;}\n",
       ".datatable .bool    { background: #DDDD99; }\n",
       ".datatable .object  { background: #565656; }\n",
       ".datatable .int     { background: #5D9E5D; }\n",
       ".datatable .float   { background: #4040CC; }\n",
       ".datatable .str     { background: #CC4040; }\n",
       ".datatable .time    { background: #40CC40; }\n",
       ".datatable .row_index {  background: var(--jp-border-color3);  border-right: 1px solid var(--jp-border-color0);  color: var(--jp-ui-font-color3);  font-size: 9px;}\n",
       ".datatable .frame tbody td { text-align: left; }\n",
       ".datatable .frame tr.coltypes .row_index {  background: var(--jp-border-color0);}\n",
       ".datatable th:nth-child(2) { padding-left: 12px; }\n",
       ".datatable .hellipsis {  color: var(--jp-cell-editor-border-color);}\n",
       ".datatable .vellipsis {  background: var(--jp-layout-color0);  color: var(--jp-cell-editor-border-color);}\n",
       ".datatable .na {  color: var(--jp-cell-editor-border-color);  font-size: 80%;}\n",
       ".datatable .sp {  opacity: 0.25;}\n",
       ".datatable .footer { font-size: 9px; }\n",
       ".datatable .frame_dimensions {  background: var(--jp-border-color3);  border-top: 1px solid var(--jp-border-color0);  color: var(--jp-ui-font-color3);  display: inline-block;  opacity: 0.6;  padding: 1px 10px 1px 5px;}\n",
       "</style>\n"
      ],
      "text/plain": [
       "<IPython.core.display.HTML object>"
      ]
     },
     "metadata": {},
     "output_type": "display_data"
    }
   ],
   "source": [
    "import numpy as np\n",
    "import pandas as pd\n",
    "import matplotlib.pyplot as plt\n",
    "import seaborn as sns\n",
    "import os\n",
    "from termcolor import colored\n",
    "import warnings\n",
    "from sklearn.model_selection import train_test_split\n",
    "from sklearn.preprocessing import LabelEncoder, MinMaxScaler\n",
    "from sklearn.linear_model import LogisticRegression, SGDClassifier\n",
    "from sklearn.metrics import accuracy_score\n",
    "from sklearn.naive_bayes import GaussianNB\n",
    "from sklearn.discriminant_analysis import LinearDiscriminantAnalysis\n",
    "from sklearn.svm import SVC\n",
    "from sklearn.ensemble import RandomForestClassifier, GradientBoostingClassifier\n",
    "from xgboost import XGBClassifier\n",
    "from sklearn.model_selection import GridSearchCV as gscv\n",
    "from sklearn.gaussian_process import GaussianProcessClassifier\n",
    "from sklearn.gaussian_process.kernels import RBF\n",
    "from sklearn.tree import DecisionTreeClassifier\n",
    "from sklearn.ensemble import AdaBoostClassifier\n",
    "from lightgbm import LGBMClassifier\n",
    "from sklearn.ensemble import VotingClassifier\n",
    "\n",
    "# import tensorflow as tf\n",
    "# from tensorflow import keras\n",
    "# from tensorflow.keras import Sequential\n",
    "# from tensorflow.keras.layers import Dense, Flatten, Dropout, BatchNormalization\n",
    "warnings.simplefilter('ignore')"
   ]
  },
  {
   "cell_type": "markdown",
   "id": "a9654230",
   "metadata": {
    "papermill": {
     "duration": 0.092799,
     "end_time": "2022-06-30T23:37:26.265222",
     "exception": false,
     "start_time": "2022-06-30T23:37:26.172423",
     "status": "completed"
    },
    "tags": []
   },
   "source": [
    "<div id=7 style=\"color:white;    \n",
    "           display:fill;\n",
    "           border-radius:5px;\n",
    "           background-color:#5642C5;\n",
    "           font-size:110%;\n",
    "           font-family:Verdana;\n",
    "           letter-spacing:0.5px;\n",
    "           display:flex;\n",
    "            justify-content:center;\">\n",
    "\n",
    "<h2 style=\"padding: 2rem;\n",
    "              color:white;\n",
    "          text-align:center;\n",
    "          margin:0 auto;\n",
    "          \">\n",
    "Reading Data 📖\n",
    "</h2>\n",
    "</div>"
   ]
  },
  {
   "cell_type": "code",
   "execution_count": 2,
   "id": "5ac00718",
   "metadata": {
    "execution": {
     "iopub.execute_input": "2022-06-30T23:37:26.458325Z",
     "iopub.status.busy": "2022-06-30T23:37:26.457771Z",
     "iopub.status.idle": "2022-06-30T23:37:26.521123Z",
     "shell.execute_reply": "2022-06-30T23:37:26.520636Z",
     "shell.execute_reply.started": "2022-06-30T20:19:31.269527Z"
    },
    "papermill": {
     "duration": 0.162196,
     "end_time": "2022-06-30T23:37:26.521272",
     "exception": false,
     "start_time": "2022-06-30T23:37:26.359076",
     "status": "completed"
    },
    "tags": []
   },
   "outputs": [],
   "source": [
    "train_data = pd.read_csv(\"../input/spaceship-titanic/train.csv\")\n",
    "test_data = pd.read_csv(\"../input/spaceship-titanic/test.csv\")"
   ]
  },
  {
   "cell_type": "markdown",
   "id": "587d8886",
   "metadata": {
    "papermill": {
     "duration": 0.0944,
     "end_time": "2022-06-30T23:37:26.711221",
     "exception": false,
     "start_time": "2022-06-30T23:37:26.616821",
     "status": "completed"
    },
    "tags": []
   },
   "source": [
    "#### Train Data"
   ]
  },
  {
   "cell_type": "code",
   "execution_count": 3,
   "id": "931b4746",
   "metadata": {
    "execution": {
     "iopub.execute_input": "2022-06-30T23:37:26.909905Z",
     "iopub.status.busy": "2022-06-30T23:37:26.909248Z",
     "iopub.status.idle": "2022-06-30T23:37:26.928032Z",
     "shell.execute_reply": "2022-06-30T23:37:26.928564Z",
     "shell.execute_reply.started": "2022-06-30T20:19:31.345027Z"
    },
    "papermill": {
     "duration": 0.121955,
     "end_time": "2022-06-30T23:37:26.928704",
     "exception": false,
     "start_time": "2022-06-30T23:37:26.806749",
     "status": "completed"
    },
    "tags": []
   },
   "outputs": [
    {
     "data": {
      "text/html": [
       "<div>\n",
       "<style scoped>\n",
       "    .dataframe tbody tr th:only-of-type {\n",
       "        vertical-align: middle;\n",
       "    }\n",
       "\n",
       "    .dataframe tbody tr th {\n",
       "        vertical-align: top;\n",
       "    }\n",
       "\n",
       "    .dataframe thead th {\n",
       "        text-align: right;\n",
       "    }\n",
       "</style>\n",
       "<table border=\"1\" class=\"dataframe\">\n",
       "  <thead>\n",
       "    <tr style=\"text-align: right;\">\n",
       "      <th></th>\n",
       "      <th>PassengerId</th>\n",
       "      <th>HomePlanet</th>\n",
       "      <th>CryoSleep</th>\n",
       "      <th>Cabin</th>\n",
       "      <th>Destination</th>\n",
       "      <th>Age</th>\n",
       "      <th>VIP</th>\n",
       "      <th>RoomService</th>\n",
       "      <th>FoodCourt</th>\n",
       "      <th>ShoppingMall</th>\n",
       "      <th>Spa</th>\n",
       "      <th>VRDeck</th>\n",
       "      <th>Name</th>\n",
       "      <th>Transported</th>\n",
       "    </tr>\n",
       "  </thead>\n",
       "  <tbody>\n",
       "    <tr>\n",
       "      <th>0</th>\n",
       "      <td>0001_01</td>\n",
       "      <td>Europa</td>\n",
       "      <td>False</td>\n",
       "      <td>B/0/P</td>\n",
       "      <td>TRAPPIST-1e</td>\n",
       "      <td>39.0</td>\n",
       "      <td>False</td>\n",
       "      <td>0.0</td>\n",
       "      <td>0.0</td>\n",
       "      <td>0.0</td>\n",
       "      <td>0.0</td>\n",
       "      <td>0.0</td>\n",
       "      <td>Maham Ofracculy</td>\n",
       "      <td>False</td>\n",
       "    </tr>\n",
       "    <tr>\n",
       "      <th>1</th>\n",
       "      <td>0002_01</td>\n",
       "      <td>Earth</td>\n",
       "      <td>False</td>\n",
       "      <td>F/0/S</td>\n",
       "      <td>TRAPPIST-1e</td>\n",
       "      <td>24.0</td>\n",
       "      <td>False</td>\n",
       "      <td>109.0</td>\n",
       "      <td>9.0</td>\n",
       "      <td>25.0</td>\n",
       "      <td>549.0</td>\n",
       "      <td>44.0</td>\n",
       "      <td>Juanna Vines</td>\n",
       "      <td>True</td>\n",
       "    </tr>\n",
       "    <tr>\n",
       "      <th>2</th>\n",
       "      <td>0003_01</td>\n",
       "      <td>Europa</td>\n",
       "      <td>False</td>\n",
       "      <td>A/0/S</td>\n",
       "      <td>TRAPPIST-1e</td>\n",
       "      <td>58.0</td>\n",
       "      <td>True</td>\n",
       "      <td>43.0</td>\n",
       "      <td>3576.0</td>\n",
       "      <td>0.0</td>\n",
       "      <td>6715.0</td>\n",
       "      <td>49.0</td>\n",
       "      <td>Altark Susent</td>\n",
       "      <td>False</td>\n",
       "    </tr>\n",
       "    <tr>\n",
       "      <th>3</th>\n",
       "      <td>0003_02</td>\n",
       "      <td>Europa</td>\n",
       "      <td>False</td>\n",
       "      <td>A/0/S</td>\n",
       "      <td>TRAPPIST-1e</td>\n",
       "      <td>33.0</td>\n",
       "      <td>False</td>\n",
       "      <td>0.0</td>\n",
       "      <td>1283.0</td>\n",
       "      <td>371.0</td>\n",
       "      <td>3329.0</td>\n",
       "      <td>193.0</td>\n",
       "      <td>Solam Susent</td>\n",
       "      <td>False</td>\n",
       "    </tr>\n",
       "    <tr>\n",
       "      <th>4</th>\n",
       "      <td>0004_01</td>\n",
       "      <td>Earth</td>\n",
       "      <td>False</td>\n",
       "      <td>F/1/S</td>\n",
       "      <td>TRAPPIST-1e</td>\n",
       "      <td>16.0</td>\n",
       "      <td>False</td>\n",
       "      <td>303.0</td>\n",
       "      <td>70.0</td>\n",
       "      <td>151.0</td>\n",
       "      <td>565.0</td>\n",
       "      <td>2.0</td>\n",
       "      <td>Willy Santantines</td>\n",
       "      <td>True</td>\n",
       "    </tr>\n",
       "  </tbody>\n",
       "</table>\n",
       "</div>"
      ],
      "text/plain": [
       "  PassengerId HomePlanet CryoSleep  Cabin  Destination   Age    VIP  \\\n",
       "0     0001_01     Europa     False  B/0/P  TRAPPIST-1e  39.0  False   \n",
       "1     0002_01      Earth     False  F/0/S  TRAPPIST-1e  24.0  False   \n",
       "2     0003_01     Europa     False  A/0/S  TRAPPIST-1e  58.0   True   \n",
       "3     0003_02     Europa     False  A/0/S  TRAPPIST-1e  33.0  False   \n",
       "4     0004_01      Earth     False  F/1/S  TRAPPIST-1e  16.0  False   \n",
       "\n",
       "   RoomService  FoodCourt  ShoppingMall     Spa  VRDeck               Name  \\\n",
       "0          0.0        0.0           0.0     0.0     0.0    Maham Ofracculy   \n",
       "1        109.0        9.0          25.0   549.0    44.0       Juanna Vines   \n",
       "2         43.0     3576.0           0.0  6715.0    49.0      Altark Susent   \n",
       "3          0.0     1283.0         371.0  3329.0   193.0       Solam Susent   \n",
       "4        303.0       70.0         151.0   565.0     2.0  Willy Santantines   \n",
       "\n",
       "   Transported  \n",
       "0        False  \n",
       "1         True  \n",
       "2        False  \n",
       "3        False  \n",
       "4         True  "
      ]
     },
     "execution_count": 3,
     "metadata": {},
     "output_type": "execute_result"
    }
   ],
   "source": [
    "train_data.head()"
   ]
  },
  {
   "cell_type": "markdown",
   "id": "83d09954",
   "metadata": {
    "papermill": {
     "duration": 0.097058,
     "end_time": "2022-06-30T23:37:27.122815",
     "exception": false,
     "start_time": "2022-06-30T23:37:27.025757",
     "status": "completed"
    },
    "tags": []
   },
   "source": [
    "#### Test Data"
   ]
  },
  {
   "cell_type": "code",
   "execution_count": 4,
   "id": "dceb10e3",
   "metadata": {
    "execution": {
     "iopub.execute_input": "2022-06-30T23:37:27.331481Z",
     "iopub.status.busy": "2022-06-30T23:37:27.330772Z",
     "iopub.status.idle": "2022-06-30T23:37:27.336171Z",
     "shell.execute_reply": "2022-06-30T23:37:27.335752Z",
     "shell.execute_reply.started": "2022-06-30T20:19:31.373398Z"
    },
    "papermill": {
     "duration": 0.117476,
     "end_time": "2022-06-30T23:37:27.336304",
     "exception": false,
     "start_time": "2022-06-30T23:37:27.218828",
     "status": "completed"
    },
    "tags": []
   },
   "outputs": [
    {
     "data": {
      "text/html": [
       "<div>\n",
       "<style scoped>\n",
       "    .dataframe tbody tr th:only-of-type {\n",
       "        vertical-align: middle;\n",
       "    }\n",
       "\n",
       "    .dataframe tbody tr th {\n",
       "        vertical-align: top;\n",
       "    }\n",
       "\n",
       "    .dataframe thead th {\n",
       "        text-align: right;\n",
       "    }\n",
       "</style>\n",
       "<table border=\"1\" class=\"dataframe\">\n",
       "  <thead>\n",
       "    <tr style=\"text-align: right;\">\n",
       "      <th></th>\n",
       "      <th>PassengerId</th>\n",
       "      <th>HomePlanet</th>\n",
       "      <th>CryoSleep</th>\n",
       "      <th>Cabin</th>\n",
       "      <th>Destination</th>\n",
       "      <th>Age</th>\n",
       "      <th>VIP</th>\n",
       "      <th>RoomService</th>\n",
       "      <th>FoodCourt</th>\n",
       "      <th>ShoppingMall</th>\n",
       "      <th>Spa</th>\n",
       "      <th>VRDeck</th>\n",
       "      <th>Name</th>\n",
       "    </tr>\n",
       "  </thead>\n",
       "  <tbody>\n",
       "    <tr>\n",
       "      <th>0</th>\n",
       "      <td>0013_01</td>\n",
       "      <td>Earth</td>\n",
       "      <td>True</td>\n",
       "      <td>G/3/S</td>\n",
       "      <td>TRAPPIST-1e</td>\n",
       "      <td>27.0</td>\n",
       "      <td>False</td>\n",
       "      <td>0.0</td>\n",
       "      <td>0.0</td>\n",
       "      <td>0.0</td>\n",
       "      <td>0.0</td>\n",
       "      <td>0.0</td>\n",
       "      <td>Nelly Carsoning</td>\n",
       "    </tr>\n",
       "    <tr>\n",
       "      <th>1</th>\n",
       "      <td>0018_01</td>\n",
       "      <td>Earth</td>\n",
       "      <td>False</td>\n",
       "      <td>F/4/S</td>\n",
       "      <td>TRAPPIST-1e</td>\n",
       "      <td>19.0</td>\n",
       "      <td>False</td>\n",
       "      <td>0.0</td>\n",
       "      <td>9.0</td>\n",
       "      <td>0.0</td>\n",
       "      <td>2823.0</td>\n",
       "      <td>0.0</td>\n",
       "      <td>Lerome Peckers</td>\n",
       "    </tr>\n",
       "    <tr>\n",
       "      <th>2</th>\n",
       "      <td>0019_01</td>\n",
       "      <td>Europa</td>\n",
       "      <td>True</td>\n",
       "      <td>C/0/S</td>\n",
       "      <td>55 Cancri e</td>\n",
       "      <td>31.0</td>\n",
       "      <td>False</td>\n",
       "      <td>0.0</td>\n",
       "      <td>0.0</td>\n",
       "      <td>0.0</td>\n",
       "      <td>0.0</td>\n",
       "      <td>0.0</td>\n",
       "      <td>Sabih Unhearfus</td>\n",
       "    </tr>\n",
       "    <tr>\n",
       "      <th>3</th>\n",
       "      <td>0021_01</td>\n",
       "      <td>Europa</td>\n",
       "      <td>False</td>\n",
       "      <td>C/1/S</td>\n",
       "      <td>TRAPPIST-1e</td>\n",
       "      <td>38.0</td>\n",
       "      <td>False</td>\n",
       "      <td>0.0</td>\n",
       "      <td>6652.0</td>\n",
       "      <td>0.0</td>\n",
       "      <td>181.0</td>\n",
       "      <td>585.0</td>\n",
       "      <td>Meratz Caltilter</td>\n",
       "    </tr>\n",
       "    <tr>\n",
       "      <th>4</th>\n",
       "      <td>0023_01</td>\n",
       "      <td>Earth</td>\n",
       "      <td>False</td>\n",
       "      <td>F/5/S</td>\n",
       "      <td>TRAPPIST-1e</td>\n",
       "      <td>20.0</td>\n",
       "      <td>False</td>\n",
       "      <td>10.0</td>\n",
       "      <td>0.0</td>\n",
       "      <td>635.0</td>\n",
       "      <td>0.0</td>\n",
       "      <td>0.0</td>\n",
       "      <td>Brence Harperez</td>\n",
       "    </tr>\n",
       "  </tbody>\n",
       "</table>\n",
       "</div>"
      ],
      "text/plain": [
       "  PassengerId HomePlanet CryoSleep  Cabin  Destination   Age    VIP  \\\n",
       "0     0013_01      Earth      True  G/3/S  TRAPPIST-1e  27.0  False   \n",
       "1     0018_01      Earth     False  F/4/S  TRAPPIST-1e  19.0  False   \n",
       "2     0019_01     Europa      True  C/0/S  55 Cancri e  31.0  False   \n",
       "3     0021_01     Europa     False  C/1/S  TRAPPIST-1e  38.0  False   \n",
       "4     0023_01      Earth     False  F/5/S  TRAPPIST-1e  20.0  False   \n",
       "\n",
       "   RoomService  FoodCourt  ShoppingMall     Spa  VRDeck              Name  \n",
       "0          0.0        0.0           0.0     0.0     0.0   Nelly Carsoning  \n",
       "1          0.0        9.0           0.0  2823.0     0.0    Lerome Peckers  \n",
       "2          0.0        0.0           0.0     0.0     0.0   Sabih Unhearfus  \n",
       "3          0.0     6652.0           0.0   181.0   585.0  Meratz Caltilter  \n",
       "4         10.0        0.0         635.0     0.0     0.0   Brence Harperez  "
      ]
     },
     "execution_count": 4,
     "metadata": {},
     "output_type": "execute_result"
    }
   ],
   "source": [
    "test_data.head()"
   ]
  },
  {
   "cell_type": "code",
   "execution_count": 5,
   "id": "90da92e4",
   "metadata": {
    "execution": {
     "iopub.execute_input": "2022-06-30T23:37:27.531665Z",
     "iopub.status.busy": "2022-06-30T23:37:27.530817Z",
     "iopub.status.idle": "2022-06-30T23:37:27.534974Z",
     "shell.execute_reply": "2022-06-30T23:37:27.535441Z",
     "shell.execute_reply.started": "2022-06-30T20:19:31.391463Z"
    },
    "papermill": {
     "duration": 0.10434,
     "end_time": "2022-06-30T23:37:27.535585",
     "exception": false,
     "start_time": "2022-06-30T23:37:27.431245",
     "status": "completed"
    },
    "tags": []
   },
   "outputs": [
    {
     "name": "stdout",
     "output_type": "stream",
     "text": [
      "TRAIN DATA\n",
      "\u001b[36mNumber of rows in train data: 8693\u001b[0m\n",
      "\u001b[36mNumber of columns in train data: 14\n",
      "\u001b[0m\n",
      "TEST DATA\n",
      "\u001b[32mNumber of rows in test data: 4277\u001b[0m\n",
      "\u001b[32mNumber of columns in test data: 13\u001b[0m\n"
     ]
    }
   ],
   "source": [
    "print('TRAIN DATA')\n",
    "print(colored(f'Number of rows in train data: {train_data.shape[0]}', 'cyan'))\n",
    "print(colored(f'Number of columns in train data: {train_data.shape[1]}\\n', 'cyan'))\n",
    "print(\"TEST DATA\")\n",
    "print(colored(f'Number of rows in test data: {test_data.shape[0]}', 'green'))\n",
    "print(colored(f'Number of columns in test data: {test_data.shape[1]}', 'green'))"
   ]
  },
  {
   "cell_type": "markdown",
   "id": "45ff17bd",
   "metadata": {
    "papermill": {
     "duration": 0.094238,
     "end_time": "2022-06-30T23:37:27.725174",
     "exception": false,
     "start_time": "2022-06-30T23:37:27.630936",
     "status": "completed"
    },
    "tags": []
   },
   "source": [
    "<div id=8 style=\"color:white;    \n",
    "           display:fill;\n",
    "           border-radius:5px;\n",
    "           background-color:#5642C5;\n",
    "           font-size:110%;\n",
    "           font-family:Verdana;\n",
    "           letter-spacing:0.5px;\n",
    "           display:flex;\n",
    "            justify-content:center;\">\n",
    "\n",
    "<h2 style=\"padding: 2rem;\n",
    "              color:white;\n",
    "          text-align:center;\n",
    "          margin:0 auto;\n",
    "          \">\n",
    " Exploratory Data Analysis and Visualization 🔍 👀\n",
    "</h2>\n",
    "</div>"
   ]
  },
  {
   "cell_type": "markdown",
   "id": "b916fb02",
   "metadata": {
    "papermill": {
     "duration": 0.094965,
     "end_time": "2022-06-30T23:37:27.915051",
     "exception": false,
     "start_time": "2022-06-30T23:37:27.820086",
     "status": "completed"
    },
    "tags": []
   },
   "source": [
    "#### Performing Data Analysis and Visualization is a necessary step to solve Data Science problems. It allows you to gain insights that are relevant to the problem, which potentially will be useful down the line for reaching a solution. "
   ]
  },
  {
   "cell_type": "markdown",
   "id": "183d05bf",
   "metadata": {
    "papermill": {
     "duration": 0.093402,
     "end_time": "2022-06-30T23:37:28.104351",
     "exception": false,
     "start_time": "2022-06-30T23:37:28.010949",
     "status": "completed"
    },
    "tags": []
   },
   "source": [
    "\n",
    "<div id=9 style=\"color:white;    \n",
    "           display:fill;\n",
    "           border-radius:5px;\n",
    "           font-size:110%;\n",
    "           background-color:#14C38E;\n",
    "           font-family:Verdana;\n",
    "           letter-spacing:1px;\n",
    "           display:flex;\n",
    "            justify-content:center;\">\n",
    "\n",
    "<h3 style=\"text-align:center;\n",
    "          margin:0 auto;\n",
    "          color:white;\n",
    "           padding:1rem\n",
    "          \">\n",
    "View Data Types of Predictors and Target Variables\n",
    "</h3>\n",
    "</div>"
   ]
  },
  {
   "cell_type": "code",
   "execution_count": 6,
   "id": "d50c45b4",
   "metadata": {
    "execution": {
     "iopub.execute_input": "2022-06-30T23:37:28.304224Z",
     "iopub.status.busy": "2022-06-30T23:37:28.303588Z",
     "iopub.status.idle": "2022-06-30T23:37:28.306332Z",
     "shell.execute_reply": "2022-06-30T23:37:28.306811Z",
     "shell.execute_reply.started": "2022-06-30T20:19:31.403459Z"
    },
    "papermill": {
     "duration": 0.107445,
     "end_time": "2022-06-30T23:37:28.306961",
     "exception": false,
     "start_time": "2022-06-30T23:37:28.199516",
     "status": "completed"
    },
    "tags": []
   },
   "outputs": [
    {
     "data": {
      "text/plain": [
       "PassengerId      object\n",
       "HomePlanet       object\n",
       "CryoSleep        object\n",
       "Cabin            object\n",
       "Destination      object\n",
       "Age             float64\n",
       "VIP              object\n",
       "RoomService     float64\n",
       "FoodCourt       float64\n",
       "ShoppingMall    float64\n",
       "Spa             float64\n",
       "VRDeck          float64\n",
       "Name             object\n",
       "Transported        bool\n",
       "dtype: object"
      ]
     },
     "execution_count": 6,
     "metadata": {},
     "output_type": "execute_result"
    }
   ],
   "source": [
    "train_data.dtypes"
   ]
  },
  {
   "cell_type": "markdown",
   "id": "76965bdd",
   "metadata": {
    "papermill": {
     "duration": 0.09529,
     "end_time": "2022-06-30T23:37:28.499006",
     "exception": false,
     "start_time": "2022-06-30T23:37:28.403716",
     "status": "completed"
    },
    "tags": []
   },
   "source": [
    "<div id=10 style=\"color:white;    \n",
    "           display:fill;\n",
    "           border-radius:5px;\n",
    "           font-size:110%;\n",
    "           background-color:#14C38E;\n",
    "           font-family:Verdana;\n",
    "           letter-spacing:1px;\n",
    "           display:flex;\n",
    "            justify-content:center;\">\n",
    "\n",
    "<h3 style=\"text-align:center;\n",
    "          margin:0 auto;\n",
    "          color:white;\n",
    "           padding:1rem\n",
    "          \">\n",
    "Analysis of Missing Values ⚠\n",
    "</h3>\n",
    "</div>"
   ]
  },
  {
   "cell_type": "markdown",
   "id": "ba122efb",
   "metadata": {
    "papermill": {
     "duration": 0.09534,
     "end_time": "2022-06-30T23:37:28.690675",
     "exception": false,
     "start_time": "2022-06-30T23:37:28.595335",
     "status": "completed"
    },
    "tags": []
   },
   "source": [
    "##### Let's start by having a look into missing vlaues. Deciding how to handle this inconvenience will affect our final result whether it is by removing the missing rows or by using the mode, median, or mean value. Below I provide a count plot of the missing values by column"
   ]
  },
  {
   "cell_type": "markdown",
   "id": "c0c4c2e3",
   "metadata": {
    "papermill": {
     "duration": 0.097479,
     "end_time": "2022-06-30T23:37:28.884889",
     "exception": false,
     "start_time": "2022-06-30T23:37:28.787410",
     "status": "completed"
    },
    "tags": []
   },
   "source": [
    "<div style=\"color:white;    \n",
    "           display:fill;\n",
    "           border-radius:5px;\n",
    "           font-size:110%;\n",
    "           font-family:Verdana;\n",
    "           letter-spacing:1px;\n",
    "           display:flex;\n",
    "            justify-content:center;\">\n",
    "\n",
    "<h4 style=\"text-align:center;\n",
    "          margin:0 auto;\n",
    "          color:black;\n",
    "          text-decoration: underline\n",
    "          \">\n",
    "Missing Values Train Data\n",
    "</h4>\n",
    "</div>"
   ]
  },
  {
   "cell_type": "code",
   "execution_count": 7,
   "id": "2fa5aa80",
   "metadata": {
    "execution": {
     "iopub.execute_input": "2022-06-30T23:37:29.089929Z",
     "iopub.status.busy": "2022-06-30T23:37:29.089058Z",
     "iopub.status.idle": "2022-06-30T23:37:29.352465Z",
     "shell.execute_reply": "2022-06-30T23:37:29.352852Z",
     "shell.execute_reply.started": "2022-06-30T20:19:31.415974Z"
    },
    "papermill": {
     "duration": 0.370461,
     "end_time": "2022-06-30T23:37:29.353000",
     "exception": false,
     "start_time": "2022-06-30T23:37:28.982539",
     "status": "completed"
    },
    "tags": []
   },
   "outputs": [
    {
     "name": "stdout",
     "output_type": "stream",
     "text": [
      "MISSING VALS IN THE TRAINING SET:\n",
      "\u001b[32mHomePlanet      201\n",
      "CryoSleep       217\n",
      "Cabin           199\n",
      "Destination     182\n",
      "Age             179\n",
      "VIP             203\n",
      "RoomService     181\n",
      "FoodCourt       183\n",
      "ShoppingMall    208\n",
      "Spa             183\n",
      "VRDeck          188\n",
      "Name            200\n",
      "dtype: int64\u001b[0m\n"
     ]
    },
    {
     "data": {
      "image/png": "[encoded data removed]",
      "text/plain": [
       "<Figure size 1368x576 with 1 Axes>"
      ]
     },
     "metadata": {
      "needs_background": "light"
     },
     "output_type": "display_data"
    }
   ],
   "source": [
    "nan_cols = train_data.columns[train_data.isna().any()].tolist()\n",
    "plt.figure(figsize=(19,8))\n",
    "nan_count_cols = train_data[nan_cols].isna().sum()\n",
    "print(\"MISSING VALS IN THE TRAINING SET:\")\n",
    "print(colored(nan_count_cols, \"green\"))\n",
    "sns.barplot(y=nan_count_cols, x=nan_cols, palette='mako')\n",
    "plt.show()"
   ]
  },
  {
   "cell_type": "markdown",
   "id": "d7cf25ad",
   "metadata": {
    "papermill": {
     "duration": 0.095711,
     "end_time": "2022-06-30T23:37:29.545214",
     "exception": false,
     "start_time": "2022-06-30T23:37:29.449503",
     "status": "completed"
    },
    "tags": []
   },
   "source": [
    "<div style=\"color:white;    \n",
    "           display:fill;\n",
    "           border-radius:5px;\n",
    "           font-size:110%;\n",
    "           font-family:Verdana;\n",
    "           letter-spacing:1px;\n",
    "           display:flex;\n",
    "            justify-content:center;\">\n",
    "\n",
    "<h4 style=\"text-align:center;\n",
    "          margin:0 auto;\n",
    "          color:black;\n",
    "          text-decoration: underline\n",
    "          \">\n",
    "Missing Values Test Data\n",
    "</h4>\n",
    "</div>"
   ]
  },
  {
   "cell_type": "code",
   "execution_count": 8,
   "id": "38a46197",
   "metadata": {
    "execution": {
     "iopub.execute_input": "2022-06-30T23:37:29.762675Z",
     "iopub.status.busy": "2022-06-30T23:37:29.761847Z",
     "iopub.status.idle": "2022-06-30T23:37:29.997398Z",
     "shell.execute_reply": "2022-06-30T23:37:29.997811Z",
     "shell.execute_reply.started": "2022-06-30T20:19:31.704175Z"
    },
    "papermill": {
     "duration": 0.357281,
     "end_time": "2022-06-30T23:37:29.997956",
     "exception": false,
     "start_time": "2022-06-30T23:37:29.640675",
     "status": "completed"
    },
    "tags": []
   },
   "outputs": [
    {
     "data": {
      "image/png": "[encoded data removed]",
      "text/plain": [
       "<Figure size 2160x576 with 1 Axes>"
      ]
     },
     "metadata": {
      "needs_background": "light"
     },
     "output_type": "display_data"
    },
    {
     "name": "stdout",
     "output_type": "stream",
     "text": [
      "\u001b[4m\u001b[1m\u001b[35mMISSING VALS IN THE TESTING SET:\n",
      "\u001b[0m\n",
      "\u001b[1m\u001b[36mHomePlanet       87\n",
      "CryoSleep        93\n",
      "Cabin           100\n",
      "Destination      92\n",
      "Age              91\n",
      "VIP              93\n",
      "RoomService      82\n",
      "FoodCourt       106\n",
      "ShoppingMall     98\n",
      "Spa             101\n",
      "VRDeck           80\n",
      "Name             94\n",
      "dtype: int64\u001b[0m \n",
      "\n"
     ]
    }
   ],
   "source": [
    "nan_cols = test_data.columns[test_data.isna().any()].tolist()\n",
    "plt.figure(figsize=(30,8))\n",
    "nan_count_cols = test_data[nan_cols].isna().sum()\n",
    "sns.barplot(y=nan_count_cols, x=nan_cols, palette='mako')\n",
    "plt.show()\n",
    "print(colored(\"MISSING VALS IN THE TESTING SET:\\n\", 'magenta', attrs=['bold', 'underline']))\n",
    "print(colored(nan_count_cols, \"cyan\", attrs=['bold']),'\\n')"
   ]
  },
  {
   "cell_type": "markdown",
   "id": "e0f0079c",
   "metadata": {
    "papermill": {
     "duration": 0.098268,
     "end_time": "2022-06-30T23:37:30.194852",
     "exception": false,
     "start_time": "2022-06-30T23:37:30.096584",
     "status": "completed"
    },
    "tags": []
   },
   "source": [
    "<div style=\"color:white;    \n",
    "           display:fill;\n",
    "           border-radius:5px;\n",
    "           font-size:110%;\n",
    "           font-family:Verdana;\n",
    "           letter-spacing:1px;\n",
    "           display:flex;\n",
    "            justify-content:center;\">\n",
    "\n",
    "<h4 style=\"text-align:center;\n",
    "          margin:0 auto;\n",
    "          color:black;\n",
    "          \">\n",
    "Conclusions 📍\n",
    "</h4>\n",
    "</div>\n",
    "\n",
    "* Both the Training and Test datasets contain missing values, they must be handled properly.\n",
    "* In the data preprocessing sections I will replace missing values with the mode for categorical predictors and the mean when it comes to interval predictors.\n"
   ]
  },
  {
   "cell_type": "markdown",
   "id": "90f43656",
   "metadata": {
    "papermill": {
     "duration": 0.098544,
     "end_time": "2022-06-30T23:37:30.392267",
     "exception": false,
     "start_time": "2022-06-30T23:37:30.293723",
     "status": "completed"
    },
    "tags": []
   },
   "source": [
    "<div id=11 style=\"color:white;    \n",
    "           display:fill;\n",
    "           border-radius:5px;\n",
    "           background-color:#14C38E;\n",
    "           font-size:110%;\n",
    "           font-family:Verdana;\n",
    "           letter-spacing:0.5px;\n",
    "           display:flex;\n",
    "            justify-content:center;\">\n",
    "\n",
    "<h3 style=\"padding: 1rem;\n",
    "              color:white;\n",
    "          text-align:center;\n",
    "          margin:0 auto;\n",
    "          \">\n",
    " Data Analysis of Individual Predictors 🔮\n",
    "</h3>\n",
    "</div>"
   ]
  },
  {
   "cell_type": "markdown",
   "id": "4f73aaee",
   "metadata": {
    "papermill": {
     "duration": 0.099397,
     "end_time": "2022-06-30T23:37:30.590588",
     "exception": false,
     "start_time": "2022-06-30T23:37:30.491191",
     "status": "completed"
    },
    "tags": []
   },
   "source": [
    "<div style=\"color:white;    \n",
    "           display:fill;\n",
    "           border-radius:5px;\n",
    "           font-size:110%;\n",
    "           font-family:Verdana;\n",
    "           letter-spacing:1px;\n",
    "           display:flex;\n",
    "            justify-content:center;\">\n",
    "\n",
    "<h3 style=\"text-align:center;\n",
    "          margin:0 auto;\n",
    "          color:black;\n",
    "          \">\n",
    "    Passenger ID's 👨👩\n",
    "</h3>\n",
    "</div>\n",
    "\n",
    "\n",
    "##### It must be noted that even though the Passenger ID's are unique based on the passenger, useful information can still be extracted since the PassengerId predictor has the following format: gggg_pp.\n",
    "\n",
    "* gggg indicates the group the passenger is part of.\n",
    "\n",
    "* pp is the unique number of each passenger of a specific group (the highest number is the size of the group)\n"
   ]
  },
  {
   "cell_type": "markdown",
   "id": "4980a5d1",
   "metadata": {
    "papermill": {
     "duration": 0.098884,
     "end_time": "2022-06-30T23:37:30.788450",
     "exception": false,
     "start_time": "2022-06-30T23:37:30.689566",
     "status": "completed"
    },
    "tags": []
   },
   "source": [
    "<div style=\"color:white;    \n",
    "           display:fill;\n",
    "           border-radius:5px;\n",
    "           font-size:110%;\n",
    "           font-family:Verdana;\n",
    "           letter-spacing:1px;\n",
    "           display:flex;\n",
    "            justify-content:center;\">\n",
    "\n",
    "<h5 style=\"text-align:center;\n",
    "          margin:0 auto;\n",
    "          color:black;\n",
    "          \">\n",
    "    Use pp from PassengerId for both the training and test sets\n",
    "</h5>\n",
    "</div>\n"
   ]
  },
  {
   "cell_type": "markdown",
   "id": "ae73648c",
   "metadata": {
    "papermill": {
     "duration": 0.098543,
     "end_time": "2022-06-30T23:37:30.986624",
     "exception": false,
     "start_time": "2022-06-30T23:37:30.888081",
     "status": "completed"
    },
    "tags": []
   },
   "source": [
    "<div style=\"color:white;    \n",
    "           display:fill;\n",
    "           border-radius:5px;\n",
    "           font-size:110%;\n",
    "           font-family:Verdana;\n",
    "           letter-spacing:1px;\n",
    "           display:flex;\n",
    "            justify-content:center;\">\n",
    "\n",
    "<h4 style=\"text-align:center;\n",
    "          margin:0 auto;\n",
    "          color:black;\n",
    "          text-decoration: underline\n",
    "          \">\n",
    "Group Size train set\n",
    "</h4>\n",
    "</div>"
   ]
  },
  {
   "cell_type": "code",
   "execution_count": 9,
   "id": "db6c0aad",
   "metadata": {
    "execution": {
     "iopub.execute_input": "2022-06-30T23:37:31.206292Z",
     "iopub.status.busy": "2022-06-30T23:37:31.205289Z",
     "iopub.status.idle": "2022-06-30T23:37:31.750478Z",
     "shell.execute_reply": "2022-06-30T23:37:31.751060Z",
     "shell.execute_reply.started": "2022-06-30T20:20:14.892299Z"
    },
    "papermill": {
     "duration": 0.666466,
     "end_time": "2022-06-30T23:37:31.751277",
     "exception": false,
     "start_time": "2022-06-30T23:37:31.084811",
     "status": "completed"
    },
    "tags": []
   },
   "outputs": [
    {
     "name": "stdout",
     "output_type": "stream",
     "text": [
      "\u001b[1m\u001b[4m\u001b[32mValue Counts based on the group size:\n",
      "\u001b[0m\n",
      "\u001b[1m\u001b[35mGroup Size, Count\u001b[0m\n",
      "\u001b[1m\u001b[36m1    4805\n",
      "2    1682\n",
      "3    1020\n",
      "4     412\n",
      "5     265\n",
      "7     231\n",
      "6     174\n",
      "8     104\n",
      "Name: group_size, dtype: int64\u001b[0m\n"
     ]
    },
    {
     "data": {
      "image/png": "[encoded data removed]",
      "text/plain": [
       "<Figure size 1368x576 with 1 Axes>"
      ]
     },
     "metadata": {
      "needs_background": "light"
     },
     "output_type": "display_data"
    },
    {
     "data": {
      "image/png": "[encoded data removed]",
      "text/plain": [
       "<Figure size 427.125x360 with 1 Axes>"
      ]
     },
     "metadata": {
      "needs_background": "light"
     },
     "output_type": "display_data"
    }
   ],
   "source": [
    "MAX_GROUP_SIZE = 8\n",
    "gggg_pp = train_data['PassengerId'].apply(lambda x: x.split('_')).values\n",
    "gggg = list(map(lambda x: x[0], gggg_pp))\n",
    "pp = list(map(lambda x: x[1], gggg_pp))\n",
    "train_data['gggg'] = gggg\n",
    "train_data['pp'] = pp\n",
    "\n",
    "train_data['pp'] = train_data['pp'].astype('int64')\n",
    "train_data['group_size'] = 0\n",
    "for i in range(MAX_GROUP_SIZE):\n",
    "    curr_gggg = train_data[train_data['pp'] == i + 1]['gggg'].to_numpy()\n",
    "    train_data.loc[train_data['gggg'].isin(curr_gggg), ['group_size']] = i + 1\n",
    "\n",
    "plt.figure(figsize=(19,8))\n",
    "print(colored(\"Value Counts based on the group size:\\n\", 'green', attrs=['underline', 'bold']))\n",
    "print(colored(\"Group Size, Count\", 'magenta', attrs=['bold']))\n",
    "print(colored(train_data['group_size'].value_counts(), \"cyan\", attrs=['bold']))\n",
    "sns.barplot(y=train_data['group_size'].value_counts(), x=np.unique(train_data['pp']), palette='mako')\n",
    "plt.show()\n",
    "sns.catplot(x=\"group_size\",  kind=\"count\", hue='Transported', data=train_data, palette='mako').set(title='Group Size and Transported Count')\n",
    "plt.show()\n"
   ]
  },
  {
   "cell_type": "markdown",
   "id": "eab0341c",
   "metadata": {
    "papermill": {
     "duration": 0.100494,
     "end_time": "2022-06-30T23:37:31.966525",
     "exception": false,
     "start_time": "2022-06-30T23:37:31.866031",
     "status": "completed"
    },
    "tags": []
   },
   "source": [
    "\n",
    "<div style=\"color:white;    \n",
    "           display:fill;\n",
    "           border-radius:5px;\n",
    "           font-size:110%;\n",
    "           font-family:Verdana;\n",
    "           letter-spacing:1px;\n",
    "           display:flex;\n",
    "            justify-content:center;\">\n",
    "\n",
    "<h4 style=\"text-align:center;\n",
    "          margin:0 auto;\n",
    "          color:black;\n",
    "          text-decoration: underline\n",
    "          \">\n",
    "Group Size test set\n",
    "</h4>\n",
    "</div>"
   ]
  },
  {
   "cell_type": "code",
   "execution_count": 10,
   "id": "82635fe4",
   "metadata": {
    "execution": {
     "iopub.execute_input": "2022-06-30T23:37:32.331274Z",
     "iopub.status.busy": "2022-06-30T23:37:32.330357Z",
     "iopub.status.idle": "2022-06-30T23:37:32.543202Z",
     "shell.execute_reply": "2022-06-30T23:37:32.542735Z",
     "shell.execute_reply.started": "2022-06-30T20:20:15.648937Z"
    },
    "papermill": {
     "duration": 0.475066,
     "end_time": "2022-06-30T23:37:32.543330",
     "exception": false,
     "start_time": "2022-06-30T23:37:32.068264",
     "status": "completed"
    },
    "tags": []
   },
   "outputs": [
    {
     "name": "stdout",
     "output_type": "stream",
     "text": [
      "\u001b[1m\u001b[4m\u001b[32mValue Counts based on the group size:\n",
      "\u001b[0m\n",
      "\u001b[1m\u001b[35mGroup Size, Count\u001b[0m\n",
      "\u001b[1m\u001b[36m1    2340\n",
      "2     908\n",
      "3     486\n",
      "4     204\n",
      "5     115\n",
      "7      98\n",
      "6      78\n",
      "8      48\n",
      "Name: group_size, dtype: int64\u001b[0m\n"
     ]
    },
    {
     "data": {
      "image/png": "[encoded data removed]",
      "text/plain": [
       "<Figure size 1368x576 with 1 Axes>"
      ]
     },
     "metadata": {
      "needs_background": "light"
     },
     "output_type": "display_data"
    }
   ],
   "source": [
    "gggg_pp = test_data['PassengerId'].apply(lambda x: x.split('_')).values\n",
    "gggg = list(map(lambda x: x[0], gggg_pp))\n",
    "pp = list(map(lambda x: x[1], gggg_pp))\n",
    "   \n",
    "plt.figure(figsize=(19,8))\n",
    "test_data['pp'] = pp\n",
    "test_data['gggg'] = gggg\n",
    "\n",
    "test_data['pp'] = test_data['pp'].astype('int64')\n",
    "test_data['group_size'] = 0\n",
    "\n",
    "for i in range(MAX_GROUP_SIZE):\n",
    "    curr_gggg = test_data[test_data['pp'] == i + 1]['gggg'].to_numpy()\n",
    "    test_data.loc[test_data['gggg'].isin(curr_gggg), ['group_size']] = i + 1\n",
    "\n",
    "print(colored(\"Value Counts based on the group size:\\n\", 'green', attrs=['underline', 'bold']))\n",
    "print(colored(\"Group Size, Count\", 'magenta', attrs=['bold']))\n",
    "print(colored(test_data['group_size'].value_counts(), \"cyan\", attrs=['bold']))\n",
    "sns.barplot(y=test_data['group_size'].value_counts(), x=np.unique(test_data['group_size']), palette='mako')\n",
    "plt.show()"
   ]
  },
  {
   "cell_type": "markdown",
   "id": "e15a5ac2",
   "metadata": {
    "papermill": {
     "duration": 0.11444,
     "end_time": "2022-06-30T23:37:32.760052",
     "exception": false,
     "start_time": "2022-06-30T23:37:32.645612",
     "status": "completed"
    },
    "tags": []
   },
   "source": [
    "#### Now for each group we must assign the final group size, which is max(pp)"
   ]
  },
  {
   "cell_type": "markdown",
   "id": "9c643551",
   "metadata": {
    "papermill": {
     "duration": 0.167104,
     "end_time": "2022-06-30T23:37:33.127342",
     "exception": false,
     "start_time": "2022-06-30T23:37:32.960238",
     "status": "completed"
    },
    "tags": []
   },
   "source": [
    "<div style=\"color:white;    \n",
    "           display:fill;\n",
    "           border-radius:5px;\n",
    "           font-size:110%;\n",
    "           font-family:Verdana;\n",
    "           letter-spacing:1px;\n",
    "           display:flex;\n",
    "            justify-content:center;\">\n",
    "\n",
    "<h4 style=\"text-align:center;\n",
    "          margin:0 auto;\n",
    "          color:black;\n",
    "          \">\n",
    "Conclusions 📍\n",
    "</h4>\n",
    "</div>"
   ]
  },
  {
   "cell_type": "markdown",
   "id": "e6ee1a80",
   "metadata": {
    "papermill": {
     "duration": 0.113733,
     "end_time": "2022-06-30T23:37:33.407608",
     "exception": false,
     "start_time": "2022-06-30T23:37:33.293875",
     "status": "completed"
    },
    "tags": []
   },
   "source": [
    "* Based on the data visualizations centered on the pp predictor (number of people/groupsize) It can be concluded that It has an impact whether the Passenger is transported or not."
   ]
  },
  {
   "cell_type": "markdown",
   "id": "e1e897ea",
   "metadata": {
    "papermill": {
     "duration": 0.101945,
     "end_time": "2022-06-30T23:37:33.609401",
     "exception": false,
     "start_time": "2022-06-30T23:37:33.507456",
     "status": "completed"
    },
    "tags": []
   },
   "source": [
    "<div style=\"color:white;    \n",
    "           display:fill;\n",
    "           border-radius:5px;\n",
    "           font-size:110%;\n",
    "           font-family:Verdana;\n",
    "           letter-spacing:1px;\n",
    "           display:flex;\n",
    "            justify-content:center;\">\n",
    "\n",
    "<h3 style=\"text-align:center;\n",
    "          margin:0 auto;\n",
    "          color:black;\n",
    "          \">\n",
    "    HomePlanet Visualization 🌍🚀\n",
    "</h3>\n",
    "</div>\n",
    "\n",
    "#### In this section, we will visualize:\n",
    "* The HomePlanet count for both the Train and Test sets.\n",
    "* The HomePlanet predictor with respect to the Transported target variable. "
   ]
  },
  {
   "cell_type": "markdown",
   "id": "73ec62cf",
   "metadata": {
    "papermill": {
     "duration": 0.101904,
     "end_time": "2022-06-30T23:37:33.812699",
     "exception": false,
     "start_time": "2022-06-30T23:37:33.710795",
     "status": "completed"
    },
    "tags": []
   },
   "source": [
    "<div style=\"color:white;    \n",
    "           display:fill;\n",
    "           border-radius:5px;\n",
    "           font-size:110%;\n",
    "           font-family:Verdana;\n",
    "           letter-spacing:1px;\n",
    "           display:flex;\n",
    "            justify-content:center;\">\n",
    "\n",
    "<h4 style=\"text-align:center;\n",
    "          margin:0 auto;\n",
    "          color:black;\n",
    "          text-decoration: underline\n",
    "          \">\n",
    "HomePlanet count visualization\n",
    "</h4>\n",
    "</div>"
   ]
  },
  {
   "cell_type": "code",
   "execution_count": 11,
   "id": "520968c4",
   "metadata": {
    "execution": {
     "iopub.execute_input": "2022-06-30T23:37:34.048668Z",
     "iopub.status.busy": "2022-06-30T23:37:34.047312Z",
     "iopub.status.idle": "2022-06-30T23:37:34.303710Z",
     "shell.execute_reply": "2022-06-30T23:37:34.304457Z",
     "shell.execute_reply.started": "2022-06-30T20:20:16.087637Z"
    },
    "papermill": {
     "duration": 0.390954,
     "end_time": "2022-06-30T23:37:34.304694",
     "exception": false,
     "start_time": "2022-06-30T23:37:33.913740",
     "status": "completed"
    },
    "tags": []
   },
   "outputs": [
    {
     "data": {
      "image/png": "[encoded data removed]",
      "text/plain": [
       "<Figure size 432x288 with 1 Axes>"
      ]
     },
     "metadata": {
      "needs_background": "light"
     },
     "output_type": "display_data"
    },
    {
     "name": "stdout",
     "output_type": "stream",
     "text": [
      "\u001b[1m\u001b[4m\u001b[35mHomePlanet Count train data:\n",
      "\u001b[0m\n",
      "\u001b[1m\u001b[36mEarth     4602\n",
      "Europa    2131\n",
      "Mars      1759\n",
      "Name: HomePlanet, dtype: int64\u001b[0m\n"
     ]
    },
    {
     "data": {
      "image/png": "[encoded data removed]",
      "text/plain": [
       "<Figure size 432x288 with 1 Axes>"
      ]
     },
     "metadata": {
      "needs_background": "light"
     },
     "output_type": "display_data"
    },
    {
     "name": "stdout",
     "output_type": "stream",
     "text": [
      "\u001b[1m\u001b[4m\u001b[35mHomePlanet Count test data:\n",
      "\u001b[0m\n",
      "\u001b[1m\u001b[36mEarth     2263\n",
      "Europa    1002\n",
      "Mars       925\n",
      "Name: HomePlanet, dtype: int64\u001b[0m\n"
     ]
    }
   ],
   "source": [
    "# The possible values present in the \"HomePlanet\" predictor\n",
    "HOME_PLANET_UNIQUE_VALS = ['Earth', 'Europa', 'Mars']\n",
    "sns.barplot(y=train_data['HomePlanet'].value_counts(), x=HOME_PLANET_UNIQUE_VALS, palette='mako')\n",
    "plt.show()\n",
    "print(colored(\"HomePlanet Count train data:\\n\", 'magenta', attrs=['underline', 'bold']))\n",
    "print(colored(train_data['HomePlanet'].value_counts(), 'cyan', attrs=['bold']))\n",
    "sns.barplot(y=test_data['HomePlanet'].value_counts(), x=HOME_PLANET_UNIQUE_VALS, palette='mako')\n",
    "plt.show()\n",
    "print(colored(\"HomePlanet Count test data:\\n\", 'magenta', attrs=['underline', 'bold']))\n",
    "print(colored(test_data['HomePlanet'].value_counts(), 'cyan', attrs=['bold']))\n"
   ]
  },
  {
   "cell_type": "markdown",
   "id": "369d1497",
   "metadata": {
    "papermill": {
     "duration": 0.104057,
     "end_time": "2022-06-30T23:37:34.524247",
     "exception": false,
     "start_time": "2022-06-30T23:37:34.420190",
     "status": "completed"
    },
    "tags": []
   },
   "source": [
    "<div style=\"color:white;    \n",
    "           display:fill;\n",
    "           border-radius:5px;\n",
    "           font-size:110%;\n",
    "           font-family:Verdana;\n",
    "           letter-spacing:1px;\n",
    "           display:flex;\n",
    "            justify-content:center;\">\n",
    "\n",
    "<h4 style=\"text-align:center;\n",
    "          margin:0 auto;\n",
    "          color:black;\n",
    "          text-decoration: underline\n",
    "          \">\n",
    "HomePlanet with respect to Transported\n",
    "</h4>\n",
    "</div>"
   ]
  },
  {
   "cell_type": "code",
   "execution_count": 12,
   "id": "6df6882e",
   "metadata": {
    "execution": {
     "iopub.execute_input": "2022-06-30T23:37:34.742476Z",
     "iopub.status.busy": "2022-06-30T23:37:34.741613Z",
     "iopub.status.idle": "2022-06-30T23:37:35.027183Z",
     "shell.execute_reply": "2022-06-30T23:37:35.026520Z",
     "shell.execute_reply.started": "2022-06-30T20:20:16.712687Z"
    },
    "papermill": {
     "duration": 0.399109,
     "end_time": "2022-06-30T23:37:35.027330",
     "exception": false,
     "start_time": "2022-06-30T23:37:34.628221",
     "status": "completed"
    },
    "tags": []
   },
   "outputs": [
    {
     "data": {
      "image/png": "[encoded data removed]",
      "text/plain": [
       "<Figure size 427.125x360 with 1 Axes>"
      ]
     },
     "metadata": {
      "needs_background": "light"
     },
     "output_type": "display_data"
    },
    {
     "name": "stdout",
     "output_type": "stream",
     "text": [
      "\u001b[1m\u001b[4m\u001b[35mCOUNT STATISTICS:\n",
      "\u001b[0m\n",
      "\u001b[1m\u001b[36mHomePlanet  Transported\n",
      "Earth       False          2651\n",
      "            True           1951\n",
      "Europa      True           1404\n",
      "Mars        True            920\n",
      "            False           839\n",
      "Europa      False           727\n",
      "dtype: int64\u001b[0m\n"
     ]
    }
   ],
   "source": [
    "homeplanet_transported_count = train_data[['HomePlanet', 'Transported']].value_counts()\n",
    "sns.catplot(x=\"HomePlanet\",  kind=\"count\", hue='Transported', data=train_data, palette='mako')\n",
    "plt.show()\n",
    "print(colored(\"COUNT STATISTICS:\\n\", 'magenta', attrs=['underline', 'bold']))\n",
    "print(colored(homeplanet_transported_count, 'cyan', attrs=['bold']))"
   ]
  },
  {
   "cell_type": "markdown",
   "id": "2ba4de4a",
   "metadata": {
    "papermill": {
     "duration": 0.104405,
     "end_time": "2022-06-30T23:37:35.235613",
     "exception": false,
     "start_time": "2022-06-30T23:37:35.131208",
     "status": "completed"
    },
    "tags": []
   },
   "source": [
    "<div style=\"color:white;    \n",
    "           display:fill;\n",
    "           border-radius:5px;\n",
    "           font-size:110%;\n",
    "           font-family:Verdana;\n",
    "           letter-spacing:1px;\n",
    "           display:flex;\n",
    "            justify-content:center;\">\n",
    "\n",
    "<h4 style=\"text-align:center;\n",
    "          margin:0 auto;\n",
    "          color:black;\n",
    "          \">\n",
    "Conclusions 📍\n",
    "</h4>\n",
    "</div>\n",
    "\n",
    "##### Based on the visualization:\n",
    "* Europa and Mars seem to indicate a higher chance of the passanger being transported.\n",
    "* Earth seems to imply lower chances of being transported."
   ]
  },
  {
   "cell_type": "markdown",
   "id": "a816b6a6",
   "metadata": {
    "papermill": {
     "duration": 0.105134,
     "end_time": "2022-06-30T23:37:35.445603",
     "exception": false,
     "start_time": "2022-06-30T23:37:35.340469",
     "status": "completed"
    },
    "tags": []
   },
   "source": [
    "<div style=\"color:white;    \n",
    "           display:fill;\n",
    "           border-radius:5px;\n",
    "           font-size:110%;\n",
    "           font-family:Verdana;\n",
    "           letter-spacing:1px;\n",
    "           display:flex;\n",
    "            justify-content:center;\">\n",
    "\n",
    "<h3 style=\"text-align:center;\n",
    "          margin:0 auto;\n",
    "          color:black;\n",
    "          \">\n",
    "    CryoSleep Visualization 💤💤 \n",
    "</h3>\n",
    "</div>\n",
    "\n",
    "\n",
    "##### In this section, we will visualize:\n",
    "* The CryoSleep count for both the Train and Test sets.\n",
    "* The CryoSleep predictor with respect to the Transported target variable (only the train set obviously). "
   ]
  },
  {
   "cell_type": "markdown",
   "id": "129de52c",
   "metadata": {
    "papermill": {
     "duration": 0.105325,
     "end_time": "2022-06-30T23:37:35.655453",
     "exception": false,
     "start_time": "2022-06-30T23:37:35.550128",
     "status": "completed"
    },
    "tags": []
   },
   "source": [
    "<div style=\"color:white;    \n",
    "           display:fill;\n",
    "           border-radius:5px;\n",
    "           font-size:110%;\n",
    "           font-family:Verdana;\n",
    "           letter-spacing:1px;\n",
    "           display:flex;\n",
    "            justify-content:center;\">\n",
    "\n",
    "<h4 style=\"text-align:center;\n",
    "          margin:0 auto;\n",
    "          color:black;\n",
    "          text-decoration: underline\n",
    "          \">\n",
    "CryoSleep Count\n",
    "</h4>\n",
    "</div>"
   ]
  },
  {
   "cell_type": "code",
   "execution_count": 13,
   "id": "753c44ee",
   "metadata": {
    "execution": {
     "iopub.execute_input": "2022-06-30T23:37:35.890934Z",
     "iopub.status.busy": "2022-06-30T23:37:35.886689Z",
     "iopub.status.idle": "2022-06-30T23:37:36.161104Z",
     "shell.execute_reply": "2022-06-30T23:37:36.161763Z",
     "shell.execute_reply.started": "2022-06-30T20:20:17.014973Z"
    },
    "papermill": {
     "duration": 0.40167,
     "end_time": "2022-06-30T23:37:36.161997",
     "exception": false,
     "start_time": "2022-06-30T23:37:35.760327",
     "status": "completed"
    },
    "tags": []
   },
   "outputs": [
    {
     "data": {
      "image/png": "[encoded data removed]",
      "text/plain": [
       "<Figure size 432x288 with 1 Axes>"
      ]
     },
     "metadata": {
      "needs_background": "light"
     },
     "output_type": "display_data"
    },
    {
     "name": "stdout",
     "output_type": "stream",
     "text": [
      "\u001b[1m\u001b[4m\u001b[35mCryoSleep Count Train data:\n",
      "\u001b[0m\n",
      "\u001b[1m\u001b[36mFalse    5439\n",
      "True     3037\n",
      "Name: CryoSleep, dtype: int64\u001b[0m \n",
      "\n"
     ]
    },
    {
     "data": {
      "image/png": "[encoded data removed]",
      "text/plain": [
       "<Figure size 432x288 with 1 Axes>"
      ]
     },
     "metadata": {
      "needs_background": "light"
     },
     "output_type": "display_data"
    },
    {
     "name": "stdout",
     "output_type": "stream",
     "text": [
      "\u001b[1m\u001b[4m\u001b[35mCryoSleep Count Test data:\n",
      "\u001b[0m\n",
      "\u001b[1m\u001b[36mFalse    2640\n",
      "True     1544\n",
      "Name: CryoSleep, dtype: int64\u001b[0m\n"
     ]
    }
   ],
   "source": [
    "sns.barplot(y=train_data['CryoSleep'].value_counts(), x=[True, False], palette='mako').set(title=\"Train Set CryoSleep value count\")\n",
    "plt.show()\n",
    "print(colored(\"CryoSleep Count Train data:\\n\", 'magenta', attrs=['underline', 'bold']))\n",
    "print(colored(train_data['CryoSleep'].value_counts(), 'cyan', attrs=['bold']), '\\n')\n",
    "sns.barplot(y=test_data['CryoSleep'].value_counts(), x=[True, False], palette='mako').set(title=\"Test Set CryoSleep value count\")\n",
    "plt.show()\n",
    "print(colored(\"CryoSleep Count Test data:\\n\", 'magenta', attrs=['underline', 'bold']))\n",
    "print(colored(test_data['CryoSleep'].value_counts(), 'cyan', attrs=['bold']))"
   ]
  },
  {
   "cell_type": "markdown",
   "id": "bb67f35c",
   "metadata": {
    "papermill": {
     "duration": 0.10743,
     "end_time": "2022-06-30T23:37:36.384101",
     "exception": false,
     "start_time": "2022-06-30T23:37:36.276671",
     "status": "completed"
    },
    "tags": []
   },
   "source": [
    "<div style=\"color:white;    \n",
    "           display:fill;\n",
    "           border-radius:5px;\n",
    "           font-size:110%;\n",
    "           font-family:Verdana;\n",
    "           letter-spacing:1px;\n",
    "           display:flex;\n",
    "            justify-content:center;\">\n",
    "\n",
    "<h4 style=\"text-align:center;\n",
    "          margin:0 auto;\n",
    "          color:black;\n",
    "          text-decoration: underline\n",
    "          \">\n",
    "CryoSleep with respect to Transported\n",
    "</h4>\n",
    "</div>"
   ]
  },
  {
   "cell_type": "code",
   "execution_count": 14,
   "id": "dcf0ab54",
   "metadata": {
    "execution": {
     "iopub.execute_input": "2022-06-30T23:37:36.604281Z",
     "iopub.status.busy": "2022-06-30T23:37:36.603403Z",
     "iopub.status.idle": "2022-06-30T23:37:36.907613Z",
     "shell.execute_reply": "2022-06-30T23:37:36.908022Z",
     "shell.execute_reply.started": "2022-06-30T20:20:17.301988Z"
    },
    "papermill": {
     "duration": 0.41896,
     "end_time": "2022-06-30T23:37:36.908178",
     "exception": false,
     "start_time": "2022-06-30T23:37:36.489218",
     "status": "completed"
    },
    "tags": []
   },
   "outputs": [
    {
     "data": {
      "image/png": "[encoded data removed]",
      "text/plain": [
       "<Figure size 427.125x360 with 1 Axes>"
      ]
     },
     "metadata": {
      "needs_background": "light"
     },
     "output_type": "display_data"
    },
    {
     "name": "stdout",
     "output_type": "stream",
     "text": [
      "\u001b[1m\u001b[4m\u001b[35mCOUNT STATISTICS:\n",
      "\u001b[0m\n",
      "\u001b[1m\u001b[36mCryoSleep  Transported\n",
      "False      False          3650\n",
      "True       True           2483\n",
      "False      True           1789\n",
      "True       False           554\n",
      "dtype: int64\u001b[0m\n"
     ]
    }
   ],
   "source": [
    "cryosleep_transported_count = train_data[['CryoSleep', 'Transported']].value_counts()\n",
    "sns.catplot(x=\"CryoSleep\",  kind=\"count\", hue='Transported', data=train_data, palette='mako')\n",
    "plt.show()\n",
    "print(colored(\"COUNT STATISTICS:\\n\", 'magenta', attrs=['underline', 'bold']))\n",
    "print(colored(cryosleep_transported_count, 'cyan', attrs=['bold']))"
   ]
  },
  {
   "cell_type": "markdown",
   "id": "7b3a5a1e",
   "metadata": {
    "papermill": {
     "duration": 0.107029,
     "end_time": "2022-06-30T23:37:37.122168",
     "exception": false,
     "start_time": "2022-06-30T23:37:37.015139",
     "status": "completed"
    },
    "tags": []
   },
   "source": [
    "<div style=\"color:white;    \n",
    "           display:fill;\n",
    "           border-radius:5px;\n",
    "           font-size:110%;\n",
    "           font-family:Verdana;\n",
    "           letter-spacing:1px;\n",
    "           display:flex;\n",
    "            justify-content:center;\">\n",
    "\n",
    "<h4 style=\"text-align:center;\n",
    "          margin:0 auto;\n",
    "          color:black;\n",
    "          \">\n",
    "Conclusions 📍\n",
    "</h4>\n",
    "</div>\n",
    "\n",
    "* Based on the visualization, CryoSleep and Transported are positively correlated."
   ]
  },
  {
   "cell_type": "markdown",
   "id": "c39a551b",
   "metadata": {
    "papermill": {
     "duration": 0.106993,
     "end_time": "2022-06-30T23:37:37.337958",
     "exception": false,
     "start_time": "2022-06-30T23:37:37.230965",
     "status": "completed"
    },
    "tags": []
   },
   "source": [
    "<div style=\"color:white;    \n",
    "           display:fill;\n",
    "           border-radius:5px;\n",
    "           font-size:110%;\n",
    "           font-family:Verdana;\n",
    "           letter-spacing:1px;\n",
    "           display:flex;\n",
    "            justify-content:center;\">\n",
    "\n",
    "<h3 style=\"text-align:center;\n",
    "          margin:0 auto;\n",
    "          color:black;\n",
    "          \">\n",
    "    Cabin Visualization 📊\n",
    "</h3>\n",
    "</div>\n",
    "\n",
    "##### The following must be taken into account for the Cabin predictor\n",
    "* It takes the following form: deck/num/side\n",
    "* Side can be either P (Port) or S (Starboard)\n",
    "\n",
    "#####  Below I perform feature engineering to when it comes to the side feature to see if useful information can be extracted"
   ]
  },
  {
   "cell_type": "markdown",
   "id": "a8fcedad",
   "metadata": {
    "papermill": {
     "duration": 0.105612,
     "end_time": "2022-06-30T23:37:37.551659",
     "exception": false,
     "start_time": "2022-06-30T23:37:37.446047",
     "status": "completed"
    },
    "tags": []
   },
   "source": [
    "<div style=\"color:white;    \n",
    "           display:fill;\n",
    "           border-radius:5px;\n",
    "           font-size:110%;\n",
    "           font-family:Verdana;\n",
    "           letter-spacing:1px;\n",
    "           display:flex;\n",
    "            justify-content:center;\">\n",
    "\n",
    "<h4 style=\"text-align:center;\n",
    "          margin:0 auto;\n",
    "          color:black;\n",
    "          text-decoration: underline\n",
    "          \">\n",
    "Cabin Visualization\n",
    "</h4>\n",
    "</div>"
   ]
  },
  {
   "cell_type": "code",
   "execution_count": 15,
   "id": "40667b63",
   "metadata": {
    "execution": {
     "iopub.execute_input": "2022-06-30T23:37:37.798142Z",
     "iopub.status.busy": "2022-06-30T23:37:37.791627Z",
     "iopub.status.idle": "2022-06-30T23:37:38.246769Z",
     "shell.execute_reply": "2022-06-30T23:37:38.246308Z",
     "shell.execute_reply.started": "2022-06-30T20:20:17.639312Z"
    },
    "papermill": {
     "duration": 0.58814,
     "end_time": "2022-06-30T23:37:38.246889",
     "exception": false,
     "start_time": "2022-06-30T23:37:37.658749",
     "status": "completed"
    },
    "tags": []
   },
   "outputs": [
    {
     "data": {
      "image/png": "[encoded data removed]",
      "text/plain": [
       "<Figure size 1368x576 with 1 Axes>"
      ]
     },
     "metadata": {
      "needs_background": "light"
     },
     "output_type": "display_data"
    },
    {
     "name": "stdout",
     "output_type": "stream",
     "text": [
      "\u001b[1m\u001b[4m\u001b[32mValue Counts based on the Cabin side:\n",
      "\u001b[0m\n",
      "\u001b[1m\u001b[35mCabin Side, Count\u001b[0m\n",
      "\u001b[1m\u001b[36mS    4288\n",
      "P    4206\n",
      "N     199\n",
      "Name: side, dtype: int64\u001b[0m\n"
     ]
    },
    {
     "data": {
      "image/png": "[encoded data removed]",
      "text/plain": [
       "<Figure size 427.125x360 with 1 Axes>"
      ]
     },
     "metadata": {
      "needs_background": "light"
     },
     "output_type": "display_data"
    }
   ],
   "source": [
    "train_data['Cabin'].fillna('N/N/N', inplace=True)\n",
    "test_data['Cabin'].fillna('N/N/N', inplace=True)\n",
    "\n",
    "deck_num_side = train_data['Cabin'].apply(lambda x: x.split('/'))\n",
    "side = list(map(lambda x: x[-1], deck_num_side))\n",
    "side_order_vals = ['S', 'P', 'N']\n",
    "train_data['side'] = side\n",
    "test_data['side'] = list(map(lambda x: x[-1], test_data['Cabin'].apply(lambda x: x.split('/'))))\n",
    "\n",
    "plt.figure(figsize=(19,8))\n",
    "sns.countplot(x='side', data=train_data, order=side_order_vals, palette='mako')\n",
    "plt.show()\n",
    "print(colored(\"Value Counts based on the Cabin side:\\n\", 'green', attrs=['underline', 'bold']))\n",
    "print(colored(\"Cabin Side, Count\", 'magenta', attrs=['bold']))\n",
    "print(colored(train_data['side'].value_counts(), \"cyan\", attrs=['bold']))\n",
    "sns.catplot(x=\"side\",  kind=\"count\", hue='Transported', data=train_data, palette='mako').set(title='Cabin Side and Transported Count')\n",
    "plt.show()"
   ]
  },
  {
   "cell_type": "markdown",
   "id": "303fc65c",
   "metadata": {
    "papermill": {
     "duration": 0.108909,
     "end_time": "2022-06-30T23:37:38.464574",
     "exception": false,
     "start_time": "2022-06-30T23:37:38.355665",
     "status": "completed"
    },
    "tags": []
   },
   "source": [
    "<div style=\"color:white;    \n",
    "           display:fill;\n",
    "           border-radius:5px;\n",
    "           font-size:110%;\n",
    "           font-family:Verdana;\n",
    "           letter-spacing:1px;\n",
    "           display:flex;\n",
    "            justify-content:center;\">\n",
    "\n",
    "<h4 style=\"text-align:center;\n",
    "          margin:0 auto;\n",
    "          color:black;\n",
    "          text-decoration: underline\n",
    "          \">\n",
    "Deck Visualization\n",
    "</h4>\n",
    "</div>"
   ]
  },
  {
   "cell_type": "code",
   "execution_count": 16,
   "id": "69c1ef85",
   "metadata": {
    "execution": {
     "iopub.execute_input": "2022-06-30T23:37:38.707115Z",
     "iopub.status.busy": "2022-06-30T23:37:38.706213Z",
     "iopub.status.idle": "2022-06-30T23:37:39.264429Z",
     "shell.execute_reply": "2022-06-30T23:37:39.264802Z",
     "shell.execute_reply.started": "2022-06-30T20:20:18.118286Z"
    },
    "papermill": {
     "duration": 0.687859,
     "end_time": "2022-06-30T23:37:39.264946",
     "exception": false,
     "start_time": "2022-06-30T23:37:38.577087",
     "status": "completed"
    },
    "tags": []
   },
   "outputs": [
    {
     "data": {
      "image/png": "[encoded data removed]",
      "text/plain": [
       "<Figure size 1368x576 with 1 Axes>"
      ]
     },
     "metadata": {
      "needs_background": "light"
     },
     "output_type": "display_data"
    },
    {
     "name": "stdout",
     "output_type": "stream",
     "text": [
      "\u001b[1m\u001b[4m\u001b[32mValue Counts based on the Cabin side:\n",
      "\u001b[0m\n",
      "\u001b[1m\u001b[35mCabin Side, Count\u001b[0m\n",
      "\u001b[1m\u001b[36mF    2794\n",
      "G    2559\n",
      "E     876\n",
      "B     779\n",
      "C     747\n",
      "D     478\n",
      "A     256\n",
      "N     199\n",
      "T       5\n",
      "Name: deck, dtype: int64\u001b[0m\n"
     ]
    },
    {
     "data": {
      "image/png": "[encoded data removed]",
      "text/plain": [
       "<Figure size 427.125x360 with 1 Axes>"
      ]
     },
     "metadata": {
      "needs_background": "light"
     },
     "output_type": "display_data"
    }
   ],
   "source": [
    "deck =  list(map(lambda x: x[0], deck_num_side))\n",
    "\n",
    "train_data['deck'] = deck\n",
    "test_data['deck'] = list(map(lambda x: x[0], test_data['Cabin'].apply(lambda x: x.split('/'))))\n",
    "\n",
    "deck_order_vals = ['A','B','C','D','E','F','G','T','N']\n",
    "plt.figure(figsize=(19,8))\n",
    "sns.countplot(x='deck', data=train_data, order=deck_order_vals, palette='mako')\n",
    "plt.show()\n",
    "print(colored(\"Value Counts based on the Cabin side:\\n\", 'green', attrs=['underline', 'bold']))\n",
    "print(colored(\"Cabin Side, Count\", 'magenta', attrs=['bold']))\n",
    "print(colored(train_data['deck'].value_counts(), \"cyan\", attrs=['bold']))\n",
    "sns.catplot(x=\"deck\",  kind=\"count\", hue='Transported', data=train_data, palette='mako').set(title='Cabin Deck and Transported Count')\n",
    "plt.show()"
   ]
  },
  {
   "cell_type": "markdown",
   "id": "54301920",
   "metadata": {
    "papermill": {
     "duration": 0.111012,
     "end_time": "2022-06-30T23:37:39.488303",
     "exception": false,
     "start_time": "2022-06-30T23:37:39.377291",
     "status": "completed"
    },
    "tags": []
   },
   "source": [
    "<div style=\"color:white;    \n",
    "           display:fill;\n",
    "           border-radius:5px;\n",
    "           font-size:110%;\n",
    "           font-family:Verdana;\n",
    "           letter-spacing:1px;\n",
    "           display:flex;\n",
    "            justify-content:center;\">\n",
    "\n",
    "<h4 style=\"text-align:center;\n",
    "          margin:0 auto;\n",
    "          color:black;\n",
    "          \">\n",
    "Conclusions 📍\n",
    "</h4>\n",
    "</div>\n",
    "\n",
    "* Based on the visualization, the side of the Cabin predictor seems to have an impact on whether the passenger is transported or not."
   ]
  },
  {
   "cell_type": "markdown",
   "id": "9da750bb",
   "metadata": {
    "papermill": {
     "duration": 0.111446,
     "end_time": "2022-06-30T23:37:39.710999",
     "exception": false,
     "start_time": "2022-06-30T23:37:39.599553",
     "status": "completed"
    },
    "tags": []
   },
   "source": [
    "<div style=\"color:white;    \n",
    "           display:fill;\n",
    "           border-radius:5px;\n",
    "           font-size:110%;\n",
    "           font-family:Verdana;\n",
    "           letter-spacing:1px;\n",
    "           display:flex;\n",
    "            justify-content:center;\">\n",
    "\n",
    "<h3 style=\"text-align:center;\n",
    "          margin:0 auto;\n",
    "          color:black;\n",
    "          \">\n",
    "    Destination Visualization 📊\n",
    "</h3>\n",
    "</div>\n",
    "\n",
    "#####  I will simply perform a count based on all the values in Destination and also compare it with the target\n"
   ]
  },
  {
   "cell_type": "code",
   "execution_count": 17,
   "id": "545a1839",
   "metadata": {
    "execution": {
     "iopub.execute_input": "2022-06-30T23:37:39.961636Z",
     "iopub.status.busy": "2022-06-30T23:37:39.960787Z",
     "iopub.status.idle": "2022-06-30T23:37:40.433652Z",
     "shell.execute_reply": "2022-06-30T23:37:40.433217Z",
     "shell.execute_reply.started": "2022-06-30T20:20:18.711987Z"
    },
    "papermill": {
     "duration": 0.599574,
     "end_time": "2022-06-30T23:37:40.433772",
     "exception": false,
     "start_time": "2022-06-30T23:37:39.834198",
     "status": "completed"
    },
    "tags": []
   },
   "outputs": [
    {
     "data": {
      "image/png": "[encoded data removed]",
      "text/plain": [
       "<Figure size 1368x576 with 1 Axes>"
      ]
     },
     "metadata": {
      "needs_background": "light"
     },
     "output_type": "display_data"
    },
    {
     "name": "stdout",
     "output_type": "stream",
     "text": [
      "\u001b[1m\u001b[4m\u001b[32mValue Counts based on the Destination:\n",
      "\u001b[0m\n",
      "\u001b[1m\u001b[35mDestination, Count\u001b[0m\n",
      "\u001b[1m\u001b[36mTRAPPIST-1e      5915\n",
      "55 Cancri e      1800\n",
      "PSO J318.5-22     796\n",
      "Name: Destination, dtype: int64\u001b[0m\n"
     ]
    },
    {
     "data": {
      "image/png": "[encoded data removed]",
      "text/plain": [
       "<Figure size 427.125x360 with 1 Axes>"
      ]
     },
     "metadata": {
      "needs_background": "light"
     },
     "output_type": "display_data"
    }
   ],
   "source": [
    "plt.figure(figsize=(19,8))\n",
    "DESTINATION_UNIQUE_VALS = train_data['Destination'].unique()\n",
    "sns.countplot(x='Destination', data=train_data, order=DESTINATION_UNIQUE_VALS, palette='mako')\n",
    "plt.show()\n",
    "print(colored(\"Value Counts based on the Destination:\\n\", 'green', attrs=['underline', 'bold']))\n",
    "print(colored(\"Destination, Count\", 'magenta', attrs=['bold']))\n",
    "print(colored(train_data['Destination'].value_counts(), \"cyan\", attrs=['bold']))\n",
    "sns.catplot(x=\"Destination\",  kind=\"count\", hue='Transported', data=train_data, palette='mako').set(title='Cabin Side and Transported Count')\n",
    "plt.show()"
   ]
  },
  {
   "cell_type": "markdown",
   "id": "2ae47e0a",
   "metadata": {
    "papermill": {
     "duration": 0.112779,
     "end_time": "2022-06-30T23:37:40.660480",
     "exception": false,
     "start_time": "2022-06-30T23:37:40.547701",
     "status": "completed"
    },
    "tags": []
   },
   "source": [
    "<div style=\"color:white;    \n",
    "           display:fill;\n",
    "           border-radius:5px;\n",
    "           font-size:110%;\n",
    "           font-family:Verdana;\n",
    "           letter-spacing:1px;\n",
    "           display:flex;\n",
    "            justify-content:center;\">\n",
    "\n",
    "<h4 style=\"text-align:center;\n",
    "          margin:0 auto;\n",
    "          color:black;\n",
    "          \">\n",
    "Conclusions 📍\n",
    "</h4>\n",
    "</div>\n",
    "\n",
    "* Based on the visualization, the destination \"TRAPPIST-1e\", exhibits a negative correlation with Transported, while the other two destinations have a positive correlation with the passangers being successfuly transported to a certain degree, \"55 Cancri e\" being the strongest one.\n"
   ]
  },
  {
   "cell_type": "markdown",
   "id": "10cd508d",
   "metadata": {
    "papermill": {
     "duration": 0.114156,
     "end_time": "2022-06-30T23:37:40.888699",
     "exception": false,
     "start_time": "2022-06-30T23:37:40.774543",
     "status": "completed"
    },
    "tags": []
   },
   "source": [
    "<div style=\"color:white;    \n",
    "           display:fill;\n",
    "           border-radius:5px;\n",
    "           font-size:110%;\n",
    "           font-family:Verdana;\n",
    "           letter-spacing:1px;\n",
    "           display:flex;\n",
    "            justify-content:center;\">\n",
    "\n",
    "<h3 style=\"text-align:center;\n",
    "          margin:0 auto;\n",
    "          color:black;\n",
    "          \">\n",
    "    Age Visualization 📊\n",
    "</h3>\n",
    "</div>\n",
    "\n",
    "#####  Below I provide information about the min, mean and max age values for both Target scenarios (Transported==1 and Transported==0). Lastly I also provide visualization of the data with a Box Plot and a Histogram."
   ]
  },
  {
   "cell_type": "code",
   "execution_count": 18,
   "id": "9ad18ed6",
   "metadata": {
    "execution": {
     "iopub.execute_input": "2022-06-30T23:37:41.164746Z",
     "iopub.status.busy": "2022-06-30T23:37:41.142317Z",
     "iopub.status.idle": "2022-06-30T23:37:41.543755Z",
     "shell.execute_reply": "2022-06-30T23:37:41.544233Z",
     "shell.execute_reply.started": "2022-06-30T20:20:19.206179Z"
    },
    "papermill": {
     "duration": 0.539958,
     "end_time": "2022-06-30T23:37:41.544391",
     "exception": false,
     "start_time": "2022-06-30T23:37:41.004433",
     "status": "completed"
    },
    "tags": []
   },
   "outputs": [
    {
     "data": {
      "image/png": "[encoded data removed]",
      "text/plain": [
       "<Figure size 1368x576 with 2 Axes>"
      ]
     },
     "metadata": {
      "needs_background": "light"
     },
     "output_type": "display_data"
    },
    {
     "name": "stdout",
     "output_type": "stream",
     "text": [
      "\u001b[1m\u001b[4m\u001b[32mAge Min, Mean and Max:\u001b[0m\n",
      "\u001b[1m\u001b[35m\tTransported == 1\u001b[0m\n",
      "\tAge Minimum:  \u001b[1m\u001b[36m0.0\u001b[0m\n",
      "\tAge Mean: \u001b[1m\u001b[36m27.74883395522388\u001b[0m\n",
      "\tAge Maximum: \u001b[1m\u001b[36m78.0\u001b[0m \n",
      "\n",
      "\u001b[1m\u001b[35m\tTransported == 0\u001b[0m\n",
      "\tAge Minimum:  \u001b[1m\u001b[36m0.0\u001b[0m\n",
      "\tAge Mean: \u001b[1m\u001b[36m29.922858495030763\u001b[0m\n",
      "\tAge Maximum: \u001b[1m\u001b[36m79.0\u001b[0m\n"
     ]
    }
   ],
   "source": [
    "fig, ax = plt.subplots(1, 2, figsize=(19,8))\n",
    "fig.suptitle('Age Histogram and Boxplot', size=22)\n",
    "sns.histplot(x='Age', data=train_data, hue='Transported', palette='mako', kde=True, element='step', ax=ax[0])\n",
    "sns.boxplot(x='Transported', y='Age', data=train_data, palette='mako', ax=ax[1])\n",
    "plt.show()\n",
    "\n",
    "print(colored(\"Age Min, Mean and Max:\", 'green', attrs=['underline', 'bold']))\n",
    "\n",
    "transported_1 = train_data[train_data['Transported']==True]['Age']\n",
    "transported_0 = train_data[train_data['Transported']==False]['Age']\n",
    "\n",
    "print(colored(\"\\tTransported == 1\", 'magenta', attrs=['bold']))\n",
    "print('\\tAge Minimum: ', colored(transported_1.describe()['min'], \"cyan\", attrs=['bold']))\n",
    "print('\\tAge Mean:', colored(transported_1.describe()['mean'], \"cyan\", attrs=['bold']))\n",
    "print('\\tAge Maximum:', colored(transported_1.describe()['max'], \"cyan\", attrs=['bold']), '\\n')\n",
    "\n",
    "print(colored(\"\\tTransported == 0\", 'magenta', attrs=['bold']))\n",
    "print('\\tAge Minimum: ', colored(transported_0.describe()['min'], \"cyan\", attrs=['bold']))\n",
    "print('\\tAge Mean:', colored(transported_0.describe()['mean'], \"cyan\", attrs=['bold']))\n",
    "print('\\tAge Maximum:', colored(transported_0.describe()['max'], \"cyan\", attrs=['bold']))"
   ]
  },
  {
   "cell_type": "markdown",
   "id": "5a961061",
   "metadata": {
    "papermill": {
     "duration": 0.11429,
     "end_time": "2022-06-30T23:37:41.774908",
     "exception": false,
     "start_time": "2022-06-30T23:37:41.660618",
     "status": "completed"
    },
    "tags": []
   },
   "source": [
    "<div style=\"color:white;    \n",
    "           display:fill;\n",
    "           border-radius:5px;\n",
    "           font-size:110%;\n",
    "           font-family:Verdana;\n",
    "           letter-spacing:1px;\n",
    "           display:flex;\n",
    "            justify-content:center;\">\n",
    "\n",
    "<h4 style=\"text-align:center;\n",
    "          margin:0 auto;\n",
    "          color:black;\n",
    "          \">\n",
    "Conclusions 📍\n",
    "</h4>\n",
    "</div>\n",
    "\n",
    "* Based on the visualization, passengers with lower age have a higher chance of being Transported, which is reflected in the histogram.\n"
   ]
  },
  {
   "cell_type": "markdown",
   "id": "888d2498",
   "metadata": {
    "papermill": {
     "duration": 0.116029,
     "end_time": "2022-06-30T23:37:42.007057",
     "exception": false,
     "start_time": "2022-06-30T23:37:41.891028",
     "status": "completed"
    },
    "tags": []
   },
   "source": [
    "\""
   ]
  },
  {
   "cell_type": "code",
   "execution_count": 19,
   "id": "23f28c96",
   "metadata": {
    "execution": {
     "iopub.execute_input": "2022-06-30T23:37:42.263843Z",
     "iopub.status.busy": "2022-06-30T23:37:42.262816Z",
     "iopub.status.idle": "2022-06-30T23:37:42.572266Z",
     "shell.execute_reply": "2022-06-30T23:37:42.572799Z",
     "shell.execute_reply.started": "2022-06-30T20:20:19.665230Z"
    },
    "papermill": {
     "duration": 0.434123,
     "end_time": "2022-06-30T23:37:42.572985",
     "exception": false,
     "start_time": "2022-06-30T23:37:42.138862",
     "status": "completed"
    },
    "tags": []
   },
   "outputs": [
    {
     "data": {
      "image/png": "[encoded data removed]",
      "text/plain": [
       "<Figure size 427.125x360 with 1 Axes>"
      ]
     },
     "metadata": {
      "needs_background": "light"
     },
     "output_type": "display_data"
    },
    {
     "name": "stdout",
     "output_type": "stream",
     "text": [
      "\u001b[1m\u001b[4m\u001b[35mCOUNT STATISTICS:\n",
      "\u001b[0m\n",
      "\u001b[1m\u001b[36mVIP    Transported\n",
      "False  True           4198\n",
      "       False          4093\n",
      "True   False           123\n",
      "       True             76\n",
      "dtype: int64\u001b[0m\n"
     ]
    }
   ],
   "source": [
    "VIP_transported_count = train_data[['VIP', 'Transported']].value_counts()\n",
    "sns.catplot(x=\"VIP\",  kind=\"count\", hue='Transported', data=train_data, palette='mako')\n",
    "plt.show()\n",
    "print(colored(\"COUNT STATISTICS:\\n\", 'magenta', attrs=['underline', 'bold']))\n",
    "print(colored(VIP_transported_count, 'cyan', attrs=['bold']))"
   ]
  },
  {
   "cell_type": "markdown",
   "id": "06bb970a",
   "metadata": {
    "papermill": {
     "duration": 0.120476,
     "end_time": "2022-06-30T23:37:42.810509",
     "exception": false,
     "start_time": "2022-06-30T23:37:42.690033",
     "status": "completed"
    },
    "tags": []
   },
   "source": [
    "<div style=\"color:white;    \n",
    "           display:fill;\n",
    "           border-radius:5px;\n",
    "           font-size:110%;\n",
    "           font-family:Verdana;\n",
    "           letter-spacing:1px;\n",
    "           display:flex;\n",
    "            justify-content:center;\">\n",
    "\n",
    "<h4 style=\"text-align:center;\n",
    "          margin:0 auto;\n",
    "          color:black;\n",
    "          \">\n",
    "Conclusions 📍\n",
    "</h4>\n",
    "</div>\n",
    "\n",
    "* Based on the visualization, VIP exhibits a negative correlation with Transported. Essentialy, VIP passengers have a higher chance of Transported being False."
   ]
  },
  {
   "cell_type": "markdown",
   "id": "2bd45209",
   "metadata": {
    "papermill": {
     "duration": 0.117772,
     "end_time": "2022-06-30T23:37:43.046855",
     "exception": false,
     "start_time": "2022-06-30T23:37:42.929083",
     "status": "completed"
    },
    "tags": []
   },
   "source": [
    "<div style=\"color:white;    \n",
    "           display:fill;\n",
    "           border-radius:5px;\n",
    "           font-size:110%;\n",
    "           font-family:Verdana;\n",
    "           letter-spacing:1px;\n",
    "           display:flex;\n",
    "            justify-content:center;\">\n",
    "\n",
    "<h3 style=\"text-align:center;\n",
    "          margin:0 auto;\n",
    "          color:black;\n",
    "          \">\n",
    "    RoomService, FoodCourt, ShoppingMall, Spa, VRDeck 📊\n",
    "</h3>\n",
    "</div>\n",
    "\n",
    "#####  Below I provide a summary regarding the following predictors: RoomService, FoodCourt, ShoppingMall, Spa, VRDeck"
   ]
  },
  {
   "cell_type": "code",
   "execution_count": 20,
   "id": "781b3284",
   "metadata": {
    "execution": {
     "iopub.execute_input": "2022-06-30T23:37:43.315491Z",
     "iopub.status.busy": "2022-06-30T23:37:43.306457Z",
     "iopub.status.idle": "2022-06-30T23:37:43.699031Z",
     "shell.execute_reply": "2022-06-30T23:37:43.699614Z",
     "shell.execute_reply.started": "2022-06-30T20:20:20.097148Z"
    },
    "papermill": {
     "duration": 0.533915,
     "end_time": "2022-06-30T23:37:43.699774",
     "exception": false,
     "start_time": "2022-06-30T23:37:43.165859",
     "status": "completed"
    },
    "tags": []
   },
   "outputs": [
    {
     "data": {
      "image/png": "[encoded data removed]",
      "text/plain": [
       "<Figure size 1584x504 with 2 Axes>"
      ]
     },
     "metadata": {
      "needs_background": "light"
     },
     "output_type": "display_data"
    },
    {
     "name": "stdout",
     "output_type": "stream",
     "text": [
      "\u001b[1m\u001b[4m\u001b[32mAge Min, Mean and Max:\u001b[0m\n",
      "\u001b[1m\u001b[35m\tTransported == 1\u001b[0m\n",
      "\tRoomService Minimum:  \u001b[1m\u001b[36m0.0\u001b[0m\n",
      "\tRoomService Mean: \u001b[1m\u001b[36m63.09802095459837\u001b[0m\n",
      "\tRoomService Maximum: \u001b[1m\u001b[36m3992.0\u001b[0m \n",
      "\n",
      "\u001b[1m\u001b[35m\tTransported == 0\u001b[0m\n",
      "\tRoomService Minimum:  \u001b[1m\u001b[36m0.0\u001b[0m\n",
      "\tRoomService Mean: \u001b[1m\u001b[36m389.2660659236424\u001b[0m\n",
      "\tRoomService Maximum: \u001b[1m\u001b[36m14327.0\u001b[0m\n"
     ]
    }
   ],
   "source": [
    "fig,ax = plt.subplots(1, 2, figsize=(22,7))\n",
    "fig.suptitle('RoomService Histogram and Boxplot', size=22)\n",
    "sns.histplot(x='RoomService', data=train_data, hue='Transported', palette='mako', kde=True, element='step', ax=ax[0])\n",
    "sns.boxplot(x='Transported', y='Age', data=train_data, palette='mako', ax=ax[1])\n",
    "plt.show()\n",
    "\n",
    "print(colored(\"Age Min, Mean and Max:\", 'green', attrs=['underline', 'bold']))\n",
    "\n",
    "transported_1 = train_data[train_data['Transported']==True]['RoomService']\n",
    "transported_0 = train_data[train_data['Transported']==False]['RoomService']\n",
    "\n",
    "print(colored(\"\\tTransported == 1\", 'magenta', attrs=['bold']))\n",
    "print('\\tRoomService Minimum: ', colored(transported_1.describe()['min'], \"cyan\", attrs=['bold']))\n",
    "print('\\tRoomService Mean:', colored(transported_1.describe()['mean'], \"cyan\", attrs=['bold']))\n",
    "print('\\tRoomService Maximum:', colored(transported_1.describe()['max'], \"cyan\", attrs=['bold']), '\\n')\n",
    "\n",
    "print(colored(\"\\tTransported == 0\", 'magenta', attrs=['bold']))\n",
    "print('\\tRoomService Minimum: ', colored(transported_0.describe()['min'], \"cyan\", attrs=['bold']))\n",
    "print('\\tRoomService Mean:', colored(transported_0.describe()['mean'], \"cyan\", attrs=['bold']))\n",
    "print('\\tRoomService Maximum:', colored(transported_0.describe()['max'], \"cyan\", attrs=['bold']))"
   ]
  },
  {
   "cell_type": "code",
   "execution_count": 21,
   "id": "7cc239f0",
   "metadata": {
    "execution": {
     "iopub.execute_input": "2022-06-30T23:37:44.096360Z",
     "iopub.status.busy": "2022-06-30T23:37:44.091116Z",
     "iopub.status.idle": "2022-06-30T23:37:44.553091Z",
     "shell.execute_reply": "2022-06-30T23:37:44.552654Z",
     "shell.execute_reply.started": "2022-06-30T20:20:20.715804Z"
    },
    "papermill": {
     "duration": 0.660092,
     "end_time": "2022-06-30T23:37:44.553242",
     "exception": false,
     "start_time": "2022-06-30T23:37:43.893150",
     "status": "completed"
    },
    "tags": []
   },
   "outputs": [
    {
     "data": {
      "image/png": "[encoded data removed]",
      "text/plain": [
       "<Figure size 1296x360 with 2 Axes>"
      ]
     },
     "metadata": {
      "needs_background": "light"
     },
     "output_type": "display_data"
    },
    {
     "name": "stdout",
     "output_type": "stream",
     "text": [
      "\u001b[1m\u001b[4m\u001b[32mFoodCourt Min, Mean and Max:\u001b[0m\n",
      "\u001b[1m\u001b[35m\tTransported == 1\u001b[0m\n",
      "\t FoodCourt Minimum:  \u001b[1m\u001b[36m0.0\u001b[0m\n",
      "\t FoodCourt Mean: \u001b[1m\u001b[36m532.6919841084366\u001b[0m\n",
      "\t FoodCourt Maximum: \u001b[1m\u001b[36m29813.0\u001b[0m \n",
      "\n",
      "\u001b[1m\u001b[35m\tTransported == 0\u001b[0m\n",
      "\t FoodCourt Minimum:  \u001b[1m\u001b[36m0.0\u001b[0m\n",
      "\t FoodCourt Mean: \u001b[1m\u001b[36m382.61593004017965\u001b[0m\n",
      "\t FoodCourt Maximum: \u001b[1m\u001b[36m16856.0\u001b[0m\n"
     ]
    }
   ],
   "source": [
    "fig,ax = plt.subplots(1, 2, figsize=(18,5))\n",
    "fig.suptitle('FoodCourt Histogram and Boxplot', size=22)\n",
    "current_var = 'FoodCourt'\n",
    "sns.histplot(x='FoodCourt', data=train_data, hue='Transported', palette='mako', kde=True, element='step', ax=ax[0])\n",
    "sns.boxplot(x='Transported', y='FoodCourt', data=train_data, palette='mako', ax=ax[1])\n",
    "plt.show()\n",
    "\n",
    "print(colored(\"FoodCourt Min, Mean and Max:\", 'green', attrs=['underline', 'bold']))\n",
    "\n",
    "transported_1 = train_data[train_data['Transported']==True]['FoodCourt']\n",
    "transported_0 = train_data[train_data['Transported']==False]['FoodCourt']\n",
    "\n",
    "print(colored(\"\\tTransported == 1\", 'magenta', attrs=['bold']))\n",
    "print('\\t FoodCourt Minimum: ', colored(transported_1.describe()['min'], \"cyan\", attrs=['bold']))\n",
    "print('\\t FoodCourt Mean:', colored(transported_1.describe()['mean'], \"cyan\", attrs=['bold']))\n",
    "print('\\t FoodCourt Maximum:', colored(transported_1.describe()['max'], \"cyan\", attrs=['bold']), '\\n')\n",
    "\n",
    "print(colored(\"\\tTransported == 0\", 'magenta', attrs=['bold']))\n",
    "print('\\t FoodCourt Minimum: ', colored(transported_0.describe()['min'], \"cyan\", attrs=['bold']))\n",
    "print('\\t FoodCourt Mean:', colored(transported_0.describe()['mean'], \"cyan\", attrs=['bold']))\n",
    "print('\\t FoodCourt Maximum:', colored(transported_0.describe()['max'], \"cyan\", attrs=['bold']))"
   ]
  },
  {
   "cell_type": "code",
   "execution_count": 22,
   "id": "951670c7",
   "metadata": {
    "execution": {
     "iopub.execute_input": "2022-06-30T23:37:44.823863Z",
     "iopub.status.busy": "2022-06-30T23:37:44.821092Z",
     "iopub.status.idle": "2022-06-30T23:37:45.207572Z",
     "shell.execute_reply": "2022-06-30T23:37:45.207997Z",
     "shell.execute_reply.started": "2022-06-30T20:20:21.121371Z"
    },
    "papermill": {
     "duration": 0.53151,
     "end_time": "2022-06-30T23:37:45.208167",
     "exception": false,
     "start_time": "2022-06-30T23:37:44.676657",
     "status": "completed"
    },
    "tags": []
   },
   "outputs": [
    {
     "data": {
      "image/png": "[encoded data removed]",
      "text/plain": [
       "<Figure size 1296x360 with 2 Axes>"
      ]
     },
     "metadata": {
      "needs_background": "light"
     },
     "output_type": "display_data"
    },
    {
     "name": "stdout",
     "output_type": "stream",
     "text": [
      "\u001b[1m\u001b[4m\u001b[32mShoppingMall Min, Mean and Max:\u001b[0m\n",
      "\u001b[1m\u001b[35m\t Transported == 1\u001b[0m\n",
      "\t ShoppingMall Minimum:  \u001b[1m\u001b[36m0.0\u001b[0m\n",
      "\t ShoppingMall Mean: \u001b[1m\u001b[36m179.82997185741087\u001b[0m\n",
      "\t ShoppingMall Maximum: \u001b[1m\u001b[36m23492.0\u001b[0m \n",
      "\n",
      "\u001b[1m\u001b[35m\t Transported == 0\u001b[0m\n",
      "\t ShoppingMall Minimum:  \u001b[1m\u001b[36m0.0\u001b[0m\n",
      "\t ShoppingMall Mean: \u001b[1m\u001b[36m167.5662165363658\u001b[0m\n",
      "\t ShoppingMall Maximum: \u001b[1m\u001b[36m10705.0\u001b[0m\n"
     ]
    }
   ],
   "source": [
    "fig,ax = plt.subplots(1, 2, figsize=(18,5))\n",
    "fig.suptitle('ShoppingMall Histogram and Boxplot', size=22)\n",
    "current_var = 'ShoppingMall'\n",
    "sns.histplot(x='ShoppingMall', data=train_data, hue='Transported', palette='mako', kde=True, element='step', ax=ax[0])\n",
    "sns.boxplot(x='Transported', y='ShoppingMall', data=train_data, palette='mako', ax=ax[1])\n",
    "plt.show()\n",
    "\n",
    "print(colored(\"ShoppingMall Min, Mean and Max:\", 'green', attrs=['underline', 'bold']))\n",
    "\n",
    "transported_1 = train_data[train_data['Transported']==True]['ShoppingMall']\n",
    "transported_0 = train_data[train_data['Transported']==False]['ShoppingMall']\n",
    "\n",
    "print(colored(\"\\t Transported == 1\", 'magenta', attrs=['bold']))\n",
    "print('\\t ShoppingMall Minimum: ', colored(transported_1.describe()['min'], \"cyan\", attrs=['bold']))\n",
    "print('\\t ShoppingMall Mean:', colored(transported_1.describe()['mean'], \"cyan\", attrs=['bold']))\n",
    "print('\\t ShoppingMall Maximum:', colored(transported_1.describe()['max'], \"cyan\", attrs=['bold']), '\\n')\n",
    "\n",
    "print(colored(\"\\t Transported == 0\", 'magenta', attrs=['bold']))\n",
    "print('\\t ShoppingMall Minimum: ', colored(transported_0.describe()['min'], \"cyan\", attrs=['bold']))\n",
    "print('\\t ShoppingMall Mean:', colored(transported_0.describe()['mean'], \"cyan\", attrs=['bold']))\n",
    "print('\\t ShoppingMall Maximum:', colored(transported_0.describe()['max'], \"cyan\", attrs=['bold']))"
   ]
  },
  {
   "cell_type": "code",
   "execution_count": 23,
   "id": "66e9cdcb",
   "metadata": {
    "execution": {
     "iopub.execute_input": "2022-06-30T23:37:45.462367Z",
     "iopub.status.busy": "2022-06-30T23:37:45.461533Z",
     "iopub.status.idle": "2022-06-30T23:37:45.995934Z",
     "shell.execute_reply": "2022-06-30T23:37:45.995465Z",
     "shell.execute_reply.started": "2022-06-30T20:20:21.527045Z"
    },
    "papermill": {
     "duration": 0.663013,
     "end_time": "2022-06-30T23:37:45.996066",
     "exception": false,
     "start_time": "2022-06-30T23:37:45.333053",
     "status": "completed"
    },
    "tags": []
   },
   "outputs": [
    {
     "data": {
      "image/png": "[encoded data removed]",
      "text/plain": [
       "<Figure size 1296x360 with 2 Axes>"
      ]
     },
     "metadata": {
      "needs_background": "light"
     },
     "output_type": "display_data"
    },
    {
     "name": "stdout",
     "output_type": "stream",
     "text": [
      "\u001b[1m\u001b[4m\u001b[32mSpa Min, Mean and Max:\u001b[0m\n",
      "\u001b[1m\u001b[35m\t Transported == 1\u001b[0m\n",
      "\t Spa Minimum:  \u001b[1m\u001b[36m0.0\u001b[0m\n",
      "\t Spa Mean: \u001b[1m\u001b[36m61.675530674131096\u001b[0m\n",
      "\t Spa Maximum: \u001b[1m\u001b[36m4103.0\u001b[0m \n",
      "\n",
      "\u001b[1m\u001b[35m\t Transported == 0\u001b[0m\n",
      "\t Spa Minimum:  \u001b[1m\u001b[36m0.0\u001b[0m\n",
      "\t Spa Mean: \u001b[1m\u001b[36m564.3826663509353\u001b[0m\n",
      "\t Spa Maximum: \u001b[1m\u001b[36m22408.0\u001b[0m\n"
     ]
    }
   ],
   "source": [
    "fig,ax = plt.subplots(1, 2, figsize=(18,5))\n",
    "fig.suptitle('Spa Histogram and Boxplot', size=22)\n",
    "\n",
    "sns.histplot(x='Spa', data=train_data, hue='Transported', palette='mako', kde=True, element='step', ax=ax[0])\n",
    "sns.boxplot(x='Transported', y='Spa', data=train_data, palette='mako', ax=ax[1])\n",
    "plt.show()\n",
    "\n",
    "print(colored(\"Spa Min, Mean and Max:\", 'green', attrs=['underline', 'bold']))\n",
    "\n",
    "transported_1 = train_data[train_data['Transported']==True]['Spa']\n",
    "transported_0 = train_data[train_data['Transported']==False]['Spa']\n",
    "\n",
    "print(colored(\"\\t Transported == 1\", 'magenta', attrs=['bold']))\n",
    "print('\\t Spa Minimum: ', colored(transported_1.describe()['min'], \"cyan\", attrs=['bold']))\n",
    "print('\\t Spa Mean:', colored(transported_1.describe()['mean'], \"cyan\", attrs=['bold']))\n",
    "print('\\t Spa Maximum:', colored(transported_1.describe()['max'], \"cyan\", attrs=['bold']), '\\n')\n",
    "\n",
    "print(colored(\"\\t Transported == 0\", 'magenta', attrs=['bold']))\n",
    "print('\\t Spa Minimum: ', colored(transported_0.describe()['min'], \"cyan\", attrs=['bold']))\n",
    "print('\\t Spa Mean:', colored(transported_0.describe()['mean'], \"cyan\", attrs=['bold']))\n",
    "print('\\t Spa Maximum:', colored(transported_0.describe()['max'], \"cyan\", attrs=['bold']))"
   ]
  },
  {
   "cell_type": "code",
   "execution_count": 24,
   "id": "98c06b07",
   "metadata": {
    "execution": {
     "iopub.execute_input": "2022-06-30T23:37:46.264339Z",
     "iopub.status.busy": "2022-06-30T23:37:46.257469Z",
     "iopub.status.idle": "2022-06-30T23:37:46.634306Z",
     "shell.execute_reply": "2022-06-30T23:37:46.633826Z",
     "shell.execute_reply.started": "2022-06-30T20:20:21.926986Z"
    },
    "papermill": {
     "duration": 0.514864,
     "end_time": "2022-06-30T23:37:46.634435",
     "exception": false,
     "start_time": "2022-06-30T23:37:46.119571",
     "status": "completed"
    },
    "tags": []
   },
   "outputs": [
    {
     "data": {
      "image/png": "[encoded data removed]",
      "text/plain": [
       "<Figure size 1296x360 with 2 Axes>"
      ]
     },
     "metadata": {
      "needs_background": "light"
     },
     "output_type": "display_data"
    },
    {
     "name": "stdout",
     "output_type": "stream",
     "text": [
      "\u001b[1m\u001b[4m\u001b[32mVRDeck Min, Mean and Max:\u001b[0m\n",
      "\u001b[1m\u001b[35m\t Transported == 1\u001b[0m\n",
      "\t VRDeck Minimum:  \u001b[1m\u001b[36m0.0\u001b[0m\n",
      "\t VRDeck Mean: \u001b[1m\u001b[36m69.1481308411215\u001b[0m\n",
      "\t VRDeck Maximum: \u001b[1m\u001b[36m5063.0\u001b[0m \n",
      "\n",
      "\u001b[1m\u001b[35m\t Transported == 0\u001b[0m\n",
      "\t VRDeck Minimum:  \u001b[1m\u001b[36m0.0\u001b[0m\n",
      "\t VRDeck Mean: \u001b[1m\u001b[36m543.6298224852071\u001b[0m\n",
      "\t VRDeck Maximum: \u001b[1m\u001b[36m24133.0\u001b[0m\n"
     ]
    }
   ],
   "source": [
    "fig,ax = plt.subplots(1, 2, figsize=(18,5))\n",
    "fig.suptitle('VRDeck Histogram and Boxplot', size=22)\n",
    "\n",
    "sns.histplot(x='VRDeck', data=train_data, hue='Transported', palette='mako', kde=True, element='step', ax=ax[0])\n",
    "sns.boxplot(x='Transported', y='VRDeck', data=train_data, palette='mako', ax=ax[1])\n",
    "plt.show()\n",
    "\n",
    "print(colored(\"VRDeck Min, Mean and Max:\", 'green', attrs=['underline', 'bold']))\n",
    "\n",
    "transported_1 = train_data[train_data['Transported']==True]['VRDeck']\n",
    "transported_0 = train_data[train_data['Transported']==False]['VRDeck']\n",
    "\n",
    "print(colored(\"\\t Transported == 1\", 'magenta', attrs=['bold']))\n",
    "print('\\t VRDeck Minimum: ', colored(transported_1.describe()['min'], \"cyan\", attrs=['bold']))\n",
    "print('\\t VRDeck Mean:', colored(transported_1.describe()['mean'], \"cyan\", attrs=['bold']))\n",
    "print('\\t VRDeck Maximum:', colored(transported_1.describe()['max'], \"cyan\", attrs=['bold']), '\\n')\n",
    "\n",
    "print(colored(\"\\t Transported == 0\", 'magenta', attrs=['bold']))\n",
    "print('\\t VRDeck Minimum: ', colored(transported_0.describe()['min'], \"cyan\", attrs=['bold']))\n",
    "print('\\t VRDeck Mean:', colored(transported_0.describe()['mean'], \"cyan\", attrs=['bold']))\n",
    "print('\\t VRDeck Maximum:', colored(transported_0.describe()['max'], \"cyan\", attrs=['bold']))"
   ]
  },
  {
   "cell_type": "markdown",
   "id": "d9fea41c",
   "metadata": {
    "papermill": {
     "duration": 0.125094,
     "end_time": "2022-06-30T23:37:46.884694",
     "exception": false,
     "start_time": "2022-06-30T23:37:46.759600",
     "status": "completed"
    },
    "tags": []
   },
   "source": [
    "<div style=\"color:white;    \n",
    "           display:fill;\n",
    "           border-radius:5px;\n",
    "           font-size:110%;\n",
    "           font-family:Verdana;\n",
    "           letter-spacing:1px;\n",
    "           display:flex;\n",
    "            justify-content:center;\">\n",
    "\n",
    "<h4 style=\"text-align:center;\n",
    "          margin:0 auto;\n",
    "          color:black;\n",
    "          \">\n",
    "Conclusions 📍\n",
    "</h4>\n",
    "</div>\n",
    "\n",
    "* By looking each of these individual cases, it can be concluded that passengers that spent more money on ameneties had a higher Transported rate"
   ]
  },
  {
   "cell_type": "markdown",
   "id": "4a339947",
   "metadata": {
    "papermill": {
     "duration": 0.125695,
     "end_time": "2022-06-30T23:37:47.136009",
     "exception": false,
     "start_time": "2022-06-30T23:37:47.010314",
     "status": "completed"
    },
    "tags": []
   },
   "source": [
    "####  Visualizing Age vs Money Spent on Amenities"
   ]
  },
  {
   "cell_type": "code",
   "execution_count": 25,
   "id": "1ad81bf1",
   "metadata": {
    "execution": {
     "iopub.execute_input": "2022-06-30T23:37:47.423606Z",
     "iopub.status.busy": "2022-06-30T23:37:47.405958Z",
     "iopub.status.idle": "2022-06-30T23:37:49.331095Z",
     "shell.execute_reply": "2022-06-30T23:37:49.331527Z",
     "shell.execute_reply.started": "2022-06-30T20:20:22.330278Z"
    },
    "papermill": {
     "duration": 2.071238,
     "end_time": "2022-06-30T23:37:49.331674",
     "exception": false,
     "start_time": "2022-06-30T23:37:47.260436",
     "status": "completed"
    },
    "tags": []
   },
   "outputs": [
    {
     "data": {
      "image/png": "[encoded data removed]",
      "text/plain": [
       "<Figure size 1296x360 with 6 Axes>"
      ]
     },
     "metadata": {
      "needs_background": "light"
     },
     "output_type": "display_data"
    }
   ],
   "source": [
    "AMENITIES = ['RoomService', 'FoodCourt', 'ShoppingMall', 'Spa', 'VRDeck']\n",
    "fig, ax = plt.subplots(3, 2, figsize=(18,5))\n",
    "\n",
    "for i, amenity in enumerate(AMENITIES):\n",
    "    sns.scatterplot(x='Age', y=amenity, data=train_data, hue='Transported', palette='mako', ax=fig.axes[i])\n",
    "    fig.axes[i].set_title(f'{amenity} vs Age', weight='bold')\n",
    "    \n",
    "    \n",
    "plt.show()"
   ]
  },
  {
   "cell_type": "markdown",
   "id": "6acb9ce7",
   "metadata": {
    "papermill": {
     "duration": 0.127976,
     "end_time": "2022-06-30T23:37:49.587710",
     "exception": false,
     "start_time": "2022-06-30T23:37:49.459734",
     "status": "completed"
    },
    "tags": []
   },
   "source": [
    "#### Create a new column \"Amenities\" which is the sum of all the amenities"
   ]
  },
  {
   "cell_type": "code",
   "execution_count": 26,
   "id": "1c3fbc18",
   "metadata": {
    "execution": {
     "iopub.execute_input": "2022-06-30T23:37:49.861199Z",
     "iopub.status.busy": "2022-06-30T23:37:49.860351Z",
     "iopub.status.idle": "2022-06-30T23:37:49.868171Z",
     "shell.execute_reply": "2022-06-30T23:37:49.867721Z",
     "shell.execute_reply.started": "2022-06-30T20:20:24.274755Z"
    },
    "papermill": {
     "duration": 0.151696,
     "end_time": "2022-06-30T23:37:49.868298",
     "exception": false,
     "start_time": "2022-06-30T23:37:49.716602",
     "status": "completed"
    },
    "tags": []
   },
   "outputs": [],
   "source": [
    "train_data['Amenities'] = train_data[AMENITIES].sum(axis=1)\n",
    "test_data['Amenities'] = test_data[AMENITIES].sum(axis=1)\n",
    "train_data['NoAmenities'] = train_data['Amenities']==0\n",
    "test_data['NoAmenities'] = test_data['Amenities']==0"
   ]
  },
  {
   "cell_type": "markdown",
   "id": "22b9fc22",
   "metadata": {
    "papermill": {
     "duration": 0.129679,
     "end_time": "2022-06-30T23:37:50.127823",
     "exception": false,
     "start_time": "2022-06-30T23:37:49.998144",
     "status": "completed"
    },
    "tags": []
   },
   "source": [
    "### Visualizing the correlation matrix of the dataset\n",
    "#### If features are highly correlated then they need to be handled accordingly"
   ]
  },
  {
   "cell_type": "code",
   "execution_count": 27,
   "id": "2ea4a9b8",
   "metadata": {
    "execution": {
     "iopub.execute_input": "2022-06-30T23:37:50.393895Z",
     "iopub.status.busy": "2022-06-30T23:37:50.393185Z",
     "iopub.status.idle": "2022-06-30T23:37:50.795344Z",
     "shell.execute_reply": "2022-06-30T23:37:50.796053Z",
     "shell.execute_reply.started": "2022-06-30T20:20:24.291605Z"
    },
    "papermill": {
     "duration": 0.537063,
     "end_time": "2022-06-30T23:37:50.796291",
     "exception": false,
     "start_time": "2022-06-30T23:37:50.259228",
     "status": "completed"
    },
    "tags": []
   },
   "outputs": [
    {
     "data": {
      "image/png": "[encoded data removed]",
      "text/plain": [
       "<Figure size 288x288 with 2 Axes>"
      ]
     },
     "metadata": {
      "needs_background": "light"
     },
     "output_type": "display_data"
    }
   ],
   "source": [
    "plt.matshow(train_data.corr())\n",
    "plt.colorbar()\n",
    "plt.show()"
   ]
  },
  {
   "cell_type": "code",
   "execution_count": 28,
   "id": "f768f973",
   "metadata": {
    "execution": {
     "iopub.execute_input": "2022-06-30T23:37:51.248012Z",
     "iopub.status.busy": "2022-06-30T23:37:51.247176Z",
     "iopub.status.idle": "2022-06-30T23:37:51.252767Z",
     "shell.execute_reply": "2022-06-30T23:37:51.253456Z",
     "shell.execute_reply.started": "2022-06-30T20:20:24.590946Z"
    },
    "papermill": {
     "duration": 0.232286,
     "end_time": "2022-06-30T23:37:51.253636",
     "exception": false,
     "start_time": "2022-06-30T23:37:51.021350",
     "status": "completed"
    },
    "tags": []
   },
   "outputs": [
    {
     "name": "stdout",
     "output_type": "stream",
     "text": [
      "[]\n"
     ]
    }
   ],
   "source": [
    "corr_matrix = train_data.corr().abs()\n",
    "upper = corr_matrix.where(np.triu(np.ones(corr_matrix.shape), k=1).astype(np.bool))\n",
    "to_drop = [column for column in upper.columns if any(upper[column] > 0.9)]\n",
    "print(to_drop)"
   ]
  },
  {
   "cell_type": "markdown",
   "id": "b0563f8e",
   "metadata": {
    "papermill": {
     "duration": 0.212651,
     "end_time": "2022-06-30T23:37:51.678752",
     "exception": false,
     "start_time": "2022-06-30T23:37:51.466101",
     "status": "completed"
    },
    "tags": []
   },
   "source": [
    "#### Since no predictor exhibits a correlation above abs(0.9), no columns need to be dropped from the dataset"
   ]
  },
  {
   "cell_type": "markdown",
   "id": "70e89355",
   "metadata": {
    "papermill": {
     "duration": 0.12904,
     "end_time": "2022-06-30T23:37:52.010382",
     "exception": false,
     "start_time": "2022-06-30T23:37:51.881342",
     "status": "completed"
    },
    "tags": []
   },
   "source": [
    "### We will use all of the information obtained in the Data Analysis and Visualization Section to our advantage and preprocess the data which will later on be used to train models"
   ]
  },
  {
   "cell_type": "markdown",
   "id": "9f42262e",
   "metadata": {
    "papermill": {
     "duration": 0.127851,
     "end_time": "2022-06-30T23:37:52.267800",
     "exception": false,
     "start_time": "2022-06-30T23:37:52.139949",
     "status": "completed"
    },
    "tags": []
   },
   "source": [
    "<div id = 12 style=\"color:white;    \n",
    "           display:fill;\n",
    "           border-radius:5px;\n",
    "           background-color:#5642C5;\n",
    "           font-size:110%;\n",
    "           font-family:Verdana;\n",
    "           letter-spacing:0.5px;\n",
    "           display:flex;\n",
    "            justify-content:center;\">\n",
    "\n",
    "<h2 style=\"padding: 2rem;\n",
    "              color:white;\n",
    "          text-align:center;\n",
    "          margin:0 auto;\n",
    "          \">\n",
    " Data Preprocessing 🔄📁\n",
    "</h2>\n",
    "</div>"
   ]
  },
  {
   "cell_type": "markdown",
   "id": "b99266bc",
   "metadata": {
    "papermill": {
     "duration": 0.130388,
     "end_time": "2022-06-30T23:37:52.533117",
     "exception": false,
     "start_time": "2022-06-30T23:37:52.402729",
     "status": "completed"
    },
    "tags": []
   },
   "source": [
    "<div style=\"color:white;    \n",
    "           display:fill;\n",
    "           border-radius:5px;\n",
    "           background-color:#14C38E;\n",
    "           font-size:110%;\n",
    "           font-family:Verdana;\n",
    "           letter-spacing:0.5px;\n",
    "           display:flex;\n",
    "            justify-content:center;\">\n",
    "\n",
    "<h3 style=\"padding: 1rem;\n",
    "              color:white;\n",
    "          text-align:center;\n",
    "          margin:0 auto;\n",
    "          \">\n",
    " Because we are now familiar with the data and we have created additional predictors that will be helpful (deck, pp, side, Amenities, NoAmenities), we will focus on processing and formatting the data so that it can be used to train a model.\n",
    "</h3>\n",
    "</div>"
   ]
  },
  {
   "cell_type": "markdown",
   "id": "742b22f8",
   "metadata": {
    "papermill": {
     "duration": 0.132023,
     "end_time": "2022-06-30T23:37:52.801315",
     "exception": false,
     "start_time": "2022-06-30T23:37:52.669292",
     "status": "completed"
    },
    "tags": []
   },
   "source": [
    "#### We can remove PassengerId, Cabin, and the Name predictors, since they will not result in improved predictions"
   ]
  },
  {
   "cell_type": "code",
   "execution_count": 29,
   "id": "18d53b09",
   "metadata": {
    "execution": {
     "iopub.execute_input": "2022-06-30T23:37:53.069645Z",
     "iopub.status.busy": "2022-06-30T23:37:53.068834Z",
     "iopub.status.idle": "2022-06-30T23:37:53.075866Z",
     "shell.execute_reply": "2022-06-30T23:37:53.075464Z",
     "shell.execute_reply.started": "2022-06-30T20:20:24.612759Z"
    },
    "papermill": {
     "duration": 0.143999,
     "end_time": "2022-06-30T23:37:53.075983",
     "exception": false,
     "start_time": "2022-06-30T23:37:52.931984",
     "status": "completed"
    },
    "tags": []
   },
   "outputs": [],
   "source": [
    "# SAVE PASSENGERID's for submission\n",
    "PASSENGER_ID = test_data[['PassengerId']]\n",
    "train_data.drop(['PassengerId', 'Cabin', 'Name', 'Amenities', 'pp', 'gggg'], axis=1, inplace=True)\n",
    "test_data.drop(['PassengerId', 'Cabin', 'Name', 'Amenities', 'pp', 'gggg'], axis=1, inplace=True)"
   ]
  },
  {
   "cell_type": "markdown",
   "id": "f7a885dc",
   "metadata": {
    "papermill": {
     "duration": 0.131411,
     "end_time": "2022-06-30T23:37:53.339061",
     "exception": false,
     "start_time": "2022-06-30T23:37:53.207650",
     "status": "completed"
    },
    "tags": []
   },
   "source": [
    "#### The remaining predictors are:\n",
    "* HomePlanet: **object**\n",
    "* CryoSleep: **object**\n",
    "* Destination: **object**\n",
    "* Age: **float64**\n",
    "* VIP: **bool**\n",
    "* RoomService: **float64**\n",
    "* FoodCourt: **float64**\n",
    "* ShoppingMall: **float64**\n",
    "* Spa: **float64**\n",
    "* VRDeck: **float64**\n",
    "* group_size: **int64**\n",
    "* side: **object**\n",
    "* deck: **object**\n",
    "* Amenities: **float64**\n",
    "* NoAmenities: **bool**"
   ]
  },
  {
   "cell_type": "markdown",
   "id": "9b1ca70e",
   "metadata": {
    "papermill": {
     "duration": 0.131282,
     "end_time": "2022-06-30T23:37:53.600941",
     "exception": false,
     "start_time": "2022-06-30T23:37:53.469659",
     "status": "completed"
    },
    "tags": []
   },
   "source": [
    "<div style=\"color:white;    \n",
    "           display:fill;\n",
    "           border-radius:5px;\n",
    "           background-color:#14C38E;\n",
    "           font-size:110%;\n",
    "           font-family:Verdana;\n",
    "           letter-spacing:0.5px;\n",
    "           display:flex;\n",
    "            justify-content:center;\">\n",
    "\n",
    "<h3 style=\"padding: 1rem;\n",
    "              color:white;\n",
    "          text-align:center;\n",
    "          margin:0 auto;\n",
    "          \">\n",
    " Filling Missing Values, Encoding and Scaling 👩‍💻\n",
    "</h3>\n",
    "</div>"
   ]
  },
  {
   "cell_type": "markdown",
   "id": "3d90285a",
   "metadata": {
    "papermill": {
     "duration": 0.136326,
     "end_time": "2022-06-30T23:37:53.870355",
     "exception": false,
     "start_time": "2022-06-30T23:37:53.734029",
     "status": "completed"
    },
    "tags": []
   },
   "source": [
    "### Filling Missing values "
   ]
  },
  {
   "cell_type": "code",
   "execution_count": 30,
   "id": "97613f28",
   "metadata": {
    "execution": {
     "iopub.execute_input": "2022-06-30T23:37:54.147627Z",
     "iopub.status.busy": "2022-06-30T23:37:54.146588Z",
     "iopub.status.idle": "2022-06-30T23:37:54.185434Z",
     "shell.execute_reply": "2022-06-30T23:37:54.185947Z",
     "shell.execute_reply.started": "2022-06-30T20:20:24.626578Z"
    },
    "papermill": {
     "duration": 0.184843,
     "end_time": "2022-06-30T23:37:54.186101",
     "exception": false,
     "start_time": "2022-06-30T23:37:54.001258",
     "status": "completed"
    },
    "tags": []
   },
   "outputs": [
    {
     "name": "stdout",
     "output_type": "stream",
     "text": [
      "\u001b[1m\u001b[4m\u001b[32mTotal NaN values before:\u001b[0m\n",
      "\u001b[1m1925\u001b[0m\n",
      "\u001b[1m\u001b[4m\u001b[32mTotal NaN values after:\u001b[0m\n",
      "\u001b[1m0\u001b[0m\n"
     ]
    }
   ],
   "source": [
    "print(colored(f\"Total NaN values before:\", 'green', attrs=['underline', 'bold']))\n",
    "print(colored(train_data.isna().sum().sum(), attrs=['bold']))\n",
    "LABELS = test_data.columns\n",
    "for col in LABELS:\n",
    "    if col in ['Age', 'RoomService',\n",
    "       'FoodCourt', 'ShoppingMall', 'Spa', 'VRDeck']:\n",
    "        train_data[col].fillna(train_data[col].median(), inplace=True)\n",
    "        test_data[col].fillna(train_data[col].median(), inplace=True)\n",
    "    else:\n",
    "        train_data[col].fillna(train_data[col].mode()[0], inplace=True)\n",
    "        test_data[col].fillna(train_data[col].mode()[0], inplace=True)\n",
    "\n",
    "print(colored(f\"Total NaN values after:\", 'green', attrs=['underline', 'bold']))\n",
    "print(colored(train_data.isna().sum().sum(), attrs=['bold']))"
   ]
  },
  {
   "cell_type": "markdown",
   "id": "80b54551",
   "metadata": {
    "papermill": {
     "duration": 0.130889,
     "end_time": "2022-06-30T23:37:54.449250",
     "exception": false,
     "start_time": "2022-06-30T23:37:54.318361",
     "status": "completed"
    },
    "tags": []
   },
   "source": [
    "### Encode labels and Scale\n",
    "* ##### Objects will use scikit-learn's LabelEncoder\n",
    "* ##### Booleans will be converted to int\n",
    "* ##### Floats will be scaled with MinMaxScaler"
   ]
  },
  {
   "cell_type": "code",
   "execution_count": 31,
   "id": "1664fb57",
   "metadata": {
    "execution": {
     "iopub.execute_input": "2022-06-30T23:37:54.739047Z",
     "iopub.status.busy": "2022-06-30T23:37:54.737982Z",
     "iopub.status.idle": "2022-06-30T23:37:54.763442Z",
     "shell.execute_reply": "2022-06-30T23:37:54.764796Z",
     "shell.execute_reply.started": "2022-06-30T20:20:24.689222Z"
    },
    "papermill": {
     "duration": 0.184291,
     "end_time": "2022-06-30T23:37:54.765041",
     "exception": false,
     "start_time": "2022-06-30T23:37:54.580750",
     "status": "completed"
    },
    "tags": []
   },
   "outputs": [],
   "source": [
    "for col in LABELS:\n",
    "    # Check if object\n",
    "    if train_data[col].dtype == 'O':\n",
    "        encoder = LabelEncoder()\n",
    "        train_data[col] = encoder.fit_transform(train_data[col])\n",
    "        test_data[col] = encoder.transform(test_data[col])\n",
    "        \n",
    "    elif train_data[col].dtype == 'bool':\n",
    "        train_data[col] = train_data[col].astype('int')\n",
    "        test_data[col] = test_data[col].astype('int')\n",
    "\n",
    "encoder = LabelEncoder()\n",
    "train_data['Transported'] = train_data['Transported'].astype('int')\n",
    "LABELS_SCALE = ['Age',]\n",
    "scaler = MinMaxScaler()\n",
    "train_data[LABELS_SCALE] = scaler.fit_transform(train_data[LABELS_SCALE])\n",
    "test_data[LABELS_SCALE] = scaler.fit_transform(test_data[LABELS_SCALE])"
   ]
  },
  {
   "cell_type": "markdown",
   "id": "c0fc5c92",
   "metadata": {
    "papermill": {
     "duration": 0.216086,
     "end_time": "2022-06-30T23:37:55.244504",
     "exception": false,
     "start_time": "2022-06-30T23:37:55.028418",
     "status": "completed"
    },
    "tags": []
   },
   "source": [
    "<div style=\"color:white;    \n",
    "           display:fill;\n",
    "           border-radius:5px;\n",
    "           background-color:#14C38E;\n",
    "           font-size:110%;\n",
    "           font-family:Verdana;\n",
    "           letter-spacing:0.5px;\n",
    "           display:flex;\n",
    "            justify-content:center;\">\n",
    "\n",
    "<h3 style=\"padding: 1rem;\n",
    "              color:white;\n",
    "          text-align:center;\n",
    "          margin:0 auto;\n",
    "          \">\n",
    " Splitting Data into Training and Validation Sets 📁📂\n",
    "</h3>\n",
    "</div>"
   ]
  },
  {
   "cell_type": "code",
   "execution_count": 32,
   "id": "bf624ace",
   "metadata": {
    "execution": {
     "iopub.execute_input": "2022-06-30T23:37:55.537499Z",
     "iopub.status.busy": "2022-06-30T23:37:55.536924Z",
     "iopub.status.idle": "2022-06-30T23:37:55.540561Z",
     "shell.execute_reply": "2022-06-30T23:37:55.540118Z",
     "shell.execute_reply.started": "2022-06-30T20:20:24.724801Z"
    },
    "papermill": {
     "duration": 0.140989,
     "end_time": "2022-06-30T23:37:55.540681",
     "exception": false,
     "start_time": "2022-06-30T23:37:55.399692",
     "status": "completed"
    },
    "tags": []
   },
   "outputs": [],
   "source": [
    "X, y = train_data.drop('Transported', axis=1), train_data[['Transported']]"
   ]
  },
  {
   "cell_type": "code",
   "execution_count": 33,
   "id": "3976c13f",
   "metadata": {
    "execution": {
     "iopub.execute_input": "2022-06-30T23:37:55.850339Z",
     "iopub.status.busy": "2022-06-30T23:37:55.836250Z",
     "iopub.status.idle": "2022-06-30T23:37:55.857921Z",
     "shell.execute_reply": "2022-06-30T23:37:55.857494Z",
     "shell.execute_reply.started": "2022-06-30T20:20:24.734696Z"
    },
    "papermill": {
     "duration": 0.18623,
     "end_time": "2022-06-30T23:37:55.858043",
     "exception": false,
     "start_time": "2022-06-30T23:37:55.671813",
     "status": "completed"
    },
    "tags": []
   },
   "outputs": [],
   "source": [
    "X_train, X_val, y_train, y_val = train_test_split(X, y, test_size=0.2, random_state=42, stratify=y)"
   ]
  },
  {
   "cell_type": "markdown",
   "id": "66b38caa",
   "metadata": {
    "papermill": {
     "duration": 0.131375,
     "end_time": "2022-06-30T23:37:56.122017",
     "exception": false,
     "start_time": "2022-06-30T23:37:55.990642",
     "status": "completed"
    },
    "tags": []
   },
   "source": [
    "<div id=13 style=\"color:white;    \n",
    "           display:fill;\n",
    "           border-radius:5px;\n",
    "           background-color:#5642C5;\n",
    "           font-size:110%;\n",
    "           font-family:Verdana;\n",
    "           letter-spacing:0.5px;\n",
    "           display:flex;\n",
    "            justify-content:center;\">\n",
    "\n",
    "<h2 style=\"padding: 2rem;\n",
    "              color:white;\n",
    "          text-align:center;\n",
    "          margin:0 auto;\n",
    "          \">\n",
    " Machine Learning 🤖\n",
    "</h2>\n",
    "</div>"
   ]
  },
  {
   "cell_type": "markdown",
   "id": "9518d295",
   "metadata": {
    "papermill": {
     "duration": 0.131631,
     "end_time": "2022-06-30T23:37:56.385772",
     "exception": false,
     "start_time": "2022-06-30T23:37:56.254141",
     "status": "completed"
    },
    "tags": []
   },
   "source": [
    "<div style=\"color:white;    \n",
    "           display:fill;\n",
    "           border-radius:5px;\n",
    "           background-color:#14C38E;\n",
    "           font-size:110%;\n",
    "           font-family:Verdana;\n",
    "           letter-spacing:0.5px;\n",
    "           display:flex;\n",
    "            justify-content:center;\">\n",
    "\n",
    "<h3 style=\"padding: 1rem;\n",
    "              color:white;\n",
    "          text-align:center;\n",
    "          margin:0 auto;\n",
    "          \">\n",
    " Model Selection \n",
    "</h3>\n",
    "</div>"
   ]
  },
  {
   "cell_type": "markdown",
   "id": "43dd50aa",
   "metadata": {
    "papermill": {
     "duration": 0.13294,
     "end_time": "2022-06-30T23:37:56.648530",
     "exception": false,
     "start_time": "2022-06-30T23:37:56.515590",
     "status": "completed"
    },
    "tags": []
   },
   "source": [
    "#### We will now focus on determining the most accurate model which will be determined by using the validation set. Below I include the ML Algorithms that we will work with:\n",
    "* Naive Bayes\n",
    "* Linear Discriminant Analysis\n",
    "* Logistic Regression\n",
    "* Support Vector Classifier\n",
    "* K-Neighbors Classifier\n",
    "* Stochastic Gradient Descent Classifier\n",
    "* Random Forest Classifier\n",
    "* Gradient Boosting Classifier\n",
    "* XGBoost Classifier\n",
    "* AdaBoost Classifier\n",
    "* LightGBM Classifier"
   ]
  },
  {
   "cell_type": "markdown",
   "id": "cd7aa932",
   "metadata": {
    "papermill": {
     "duration": 0.13136,
     "end_time": "2022-06-30T23:37:56.911128",
     "exception": false,
     "start_time": "2022-06-30T23:37:56.779768",
     "status": "completed"
    },
    "tags": []
   },
   "source": [
    "### We will keep track of the accuracies of all the models in the dictionary"
   ]
  },
  {
   "cell_type": "code",
   "execution_count": 34,
   "id": "195fef65",
   "metadata": {
    "execution": {
     "iopub.execute_input": "2022-06-30T23:37:57.179186Z",
     "iopub.status.busy": "2022-06-30T23:37:57.177551Z",
     "iopub.status.idle": "2022-06-30T23:37:57.179765Z",
     "shell.execute_reply": "2022-06-30T23:37:57.180189Z",
     "shell.execute_reply.started": "2022-06-30T20:20:24.789861Z"
    },
    "papermill": {
     "duration": 0.137969,
     "end_time": "2022-06-30T23:37:57.180332",
     "exception": false,
     "start_time": "2022-06-30T23:37:57.042363",
     "status": "completed"
    },
    "tags": []
   },
   "outputs": [],
   "source": [
    "# Define dictionary with model accuracies\n",
    "model_dict = {}"
   ]
  },
  {
   "cell_type": "markdown",
   "id": "a100a6d1",
   "metadata": {
    "papermill": {
     "duration": 0.13775,
     "end_time": "2022-06-30T23:37:57.450752",
     "exception": false,
     "start_time": "2022-06-30T23:37:57.313002",
     "status": "completed"
    },
    "tags": []
   },
   "source": [
    "#### Naive Bayes "
   ]
  },
  {
   "cell_type": "code",
   "execution_count": 35,
   "id": "db2a61ae",
   "metadata": {
    "execution": {
     "iopub.execute_input": "2022-06-30T23:37:57.723119Z",
     "iopub.status.busy": "2022-06-30T23:37:57.717854Z",
     "iopub.status.idle": "2022-06-30T23:37:57.728900Z",
     "shell.execute_reply": "2022-06-30T23:37:57.729327Z",
     "shell.execute_reply.started": "2022-06-30T20:20:24.797556Z"
    },
    "papermill": {
     "duration": 0.147769,
     "end_time": "2022-06-30T23:37:57.729468",
     "exception": false,
     "start_time": "2022-06-30T23:37:57.581699",
     "status": "completed"
    },
    "tags": []
   },
   "outputs": [
    {
     "name": "stdout",
     "output_type": "stream",
     "text": [
      "0.7326049453709028\n"
     ]
    }
   ],
   "source": [
    "classifer = GaussianNB()\n",
    "predictor = classifer.fit(X_train, y_train)\n",
    "y_pred = predictor.predict(X_val)\n",
    "accuracy_naive_bayes = accuracy_score(y_val, y_pred)\n",
    "model_dict['naive_bayes'] = accuracy_naive_bayes\n",
    "print(accuracy_naive_bayes)"
   ]
  },
  {
   "cell_type": "markdown",
   "id": "8c089332",
   "metadata": {
    "papermill": {
     "duration": 0.133085,
     "end_time": "2022-06-30T23:37:57.994555",
     "exception": false,
     "start_time": "2022-06-30T23:37:57.861470",
     "status": "completed"
    },
    "tags": []
   },
   "source": [
    "#### Linear Discriminant Analysis"
   ]
  },
  {
   "cell_type": "code",
   "execution_count": 36,
   "id": "f6cb5978",
   "metadata": {
    "execution": {
     "iopub.execute_input": "2022-06-30T23:37:58.267358Z",
     "iopub.status.busy": "2022-06-30T23:37:58.266479Z",
     "iopub.status.idle": "2022-06-30T23:37:58.300053Z",
     "shell.execute_reply": "2022-06-30T23:37:58.301251Z",
     "shell.execute_reply.started": "2022-06-30T20:20:24.813038Z"
    },
    "papermill": {
     "duration": 0.174129,
     "end_time": "2022-06-30T23:37:58.301518",
     "exception": false,
     "start_time": "2022-06-30T23:37:58.127389",
     "status": "completed"
    },
    "tags": []
   },
   "outputs": [
    {
     "name": "stdout",
     "output_type": "stream",
     "text": [
      "0.7694077055779184\n"
     ]
    }
   ],
   "source": [
    "classifer = LinearDiscriminantAnalysis()\n",
    "predictor = classifer.fit(X_train, y_train)\n",
    "y_pred = predictor.predict(X_val)\n",
    "accuracy_lda = accuracy_score(y_val, y_pred)\n",
    "model_dict['linear_discriminant_analysis'] = accuracy_lda\n",
    "print(accuracy_lda)"
   ]
  },
  {
   "cell_type": "markdown",
   "id": "78d13405",
   "metadata": {
    "papermill": {
     "duration": 0.130981,
     "end_time": "2022-06-30T23:37:58.644535",
     "exception": false,
     "start_time": "2022-06-30T23:37:58.513554",
     "status": "completed"
    },
    "tags": []
   },
   "source": [
    "#### Logistic Regression"
   ]
  },
  {
   "cell_type": "code",
   "execution_count": 37,
   "id": "d8f2ffc7",
   "metadata": {
    "execution": {
     "iopub.execute_input": "2022-06-30T23:37:58.920918Z",
     "iopub.status.busy": "2022-06-30T23:37:58.916105Z",
     "iopub.status.idle": "2022-06-30T23:37:59.023041Z",
     "shell.execute_reply": "2022-06-30T23:37:59.023775Z",
     "shell.execute_reply.started": "2022-06-30T20:20:24.858812Z"
    },
    "papermill": {
     "duration": 0.247798,
     "end_time": "2022-06-30T23:37:59.024026",
     "exception": false,
     "start_time": "2022-06-30T23:37:58.776228",
     "status": "completed"
    },
    "tags": []
   },
   "outputs": [
    {
     "name": "stdout",
     "output_type": "stream",
     "text": [
      "0.7843588269120184\n"
     ]
    }
   ],
   "source": [
    "classifier = LogisticRegression(random_state=42)\n",
    "predictor = classifier.fit(X_train, y_train)\n",
    "y_pred = predictor.predict(X_val)\n",
    "accuracy_log_reg = accuracy_score(y_val, y_pred)\n",
    "model_dict['logistic_regression'] = accuracy_log_reg\n",
    "print(accuracy_log_reg)"
   ]
  },
  {
   "cell_type": "markdown",
   "id": "758aecfc",
   "metadata": {
    "papermill": {
     "duration": 0.133012,
     "end_time": "2022-06-30T23:37:59.346925",
     "exception": false,
     "start_time": "2022-06-30T23:37:59.213913",
     "status": "completed"
    },
    "tags": []
   },
   "source": [
    "#### Support Vector Classifier"
   ]
  },
  {
   "cell_type": "code",
   "execution_count": 38,
   "id": "b8565a76",
   "metadata": {
    "execution": {
     "iopub.execute_input": "2022-06-30T23:37:59.618072Z",
     "iopub.status.busy": "2022-06-30T23:37:59.617271Z",
     "iopub.status.idle": "2022-06-30T23:38:01.631473Z",
     "shell.execute_reply": "2022-06-30T23:38:01.632196Z",
     "shell.execute_reply.started": "2022-06-30T20:20:25.039986Z"
    },
    "papermill": {
     "duration": 2.153079,
     "end_time": "2022-06-30T23:38:01.632352",
     "exception": false,
     "start_time": "2022-06-30T23:37:59.479273",
     "status": "completed"
    },
    "tags": []
   },
   "outputs": [
    {
     "name": "stdout",
     "output_type": "stream",
     "text": [
      "0.7912593444508338\n"
     ]
    }
   ],
   "source": [
    "classifier = SVC(random_state=42)\n",
    "predictor_svc = classifier.fit(X_train, y_train)\n",
    "y_pred = predictor_svc.predict(X_val)\n",
    "accuracy_svc = accuracy_score(y_val, y_pred)\n",
    "model_dict['SVC'] = accuracy_svc\n",
    "print(accuracy_svc)"
   ]
  },
  {
   "cell_type": "markdown",
   "id": "c4003470",
   "metadata": {
    "papermill": {
     "duration": 0.135006,
     "end_time": "2022-06-30T23:38:01.902113",
     "exception": false,
     "start_time": "2022-06-30T23:38:01.767107",
     "status": "completed"
    },
    "tags": []
   },
   "source": [
    "#### K-Neighbors Classifier"
   ]
  },
  {
   "cell_type": "code",
   "execution_count": 39,
   "id": "349137c4",
   "metadata": {
    "execution": {
     "iopub.execute_input": "2022-06-30T23:38:02.175320Z",
     "iopub.status.busy": "2022-06-30T23:38:02.174417Z",
     "iopub.status.idle": "2022-06-30T23:38:02.302918Z",
     "shell.execute_reply": "2022-06-30T23:38:02.303335Z",
     "shell.execute_reply.started": "2022-06-30T20:20:27.204657Z"
    },
    "papermill": {
     "duration": 0.26818,
     "end_time": "2022-06-30T23:38:02.303482",
     "exception": false,
     "start_time": "2022-06-30T23:38:02.035302",
     "status": "completed"
    },
    "tags": []
   },
   "outputs": [
    {
     "name": "stdout",
     "output_type": "stream",
     "text": [
      "0.7630822311673375\n"
     ]
    }
   ],
   "source": [
    "from sklearn.neighbors import KNeighborsClassifier\n",
    "classifier = KNeighborsClassifier()\n",
    "predictor = classifier.fit(X_train, y_train)\n",
    "y_pred = predictor.predict(X_val)\n",
    "accuracy_knn = accuracy_score(y_val, y_pred)\n",
    "model_dict['kneighbors_classifier'] = accuracy_knn\n",
    "print(accuracy_knn)"
   ]
  },
  {
   "cell_type": "markdown",
   "id": "78b4c837",
   "metadata": {
    "papermill": {
     "duration": 0.138075,
     "end_time": "2022-06-30T23:38:02.575951",
     "exception": false,
     "start_time": "2022-06-30T23:38:02.437876",
     "status": "completed"
    },
    "tags": []
   },
   "source": [
    "#### Stochastic Gradient Descent Classifier"
   ]
  },
  {
   "cell_type": "code",
   "execution_count": 40,
   "id": "00b58640",
   "metadata": {
    "execution": {
     "iopub.execute_input": "2022-06-30T23:38:02.849125Z",
     "iopub.status.busy": "2022-06-30T23:38:02.848212Z",
     "iopub.status.idle": "2022-06-30T23:38:02.885574Z",
     "shell.execute_reply": "2022-06-30T23:38:02.886382Z",
     "shell.execute_reply.started": "2022-06-30T20:20:27.341365Z"
    },
    "papermill": {
     "duration": 0.177431,
     "end_time": "2022-06-30T23:38:02.886645",
     "exception": false,
     "start_time": "2022-06-30T23:38:02.709214",
     "status": "completed"
    },
    "tags": []
   },
   "outputs": [
    {
     "name": "stdout",
     "output_type": "stream",
     "text": [
      "0.7768832662449684\n"
     ]
    }
   ],
   "source": [
    "classifier = SGDClassifier(random_state=42)\n",
    "predictor = classifier.fit(X_train, y_train)\n",
    "y_pred = predictor.predict(X_val)\n",
    "accuracy_sgdc = accuracy_score(y_val, y_pred)\n",
    "model_dict['sgd_classifier'] = accuracy_sgdc\n",
    "print(accuracy_sgdc)"
   ]
  },
  {
   "cell_type": "markdown",
   "id": "d0298ec8",
   "metadata": {
    "papermill": {
     "duration": 0.133957,
     "end_time": "2022-06-30T23:38:03.213781",
     "exception": false,
     "start_time": "2022-06-30T23:38:03.079824",
     "status": "completed"
    },
    "tags": []
   },
   "source": [
    "#### Random Forest Classifier"
   ]
  },
  {
   "cell_type": "code",
   "execution_count": 41,
   "id": "dfb04253",
   "metadata": {
    "execution": {
     "iopub.execute_input": "2022-06-30T23:38:03.490084Z",
     "iopub.status.busy": "2022-06-30T23:38:03.489213Z",
     "iopub.status.idle": "2022-06-30T23:38:04.149196Z",
     "shell.execute_reply": "2022-06-30T23:38:04.149889Z",
     "shell.execute_reply.started": "2022-06-30T20:20:27.387274Z"
    },
    "papermill": {
     "duration": 0.801103,
     "end_time": "2022-06-30T23:38:04.150145",
     "exception": false,
     "start_time": "2022-06-30T23:38:03.349042",
     "status": "completed"
    },
    "tags": []
   },
   "outputs": [
    {
     "name": "stdout",
     "output_type": "stream",
     "text": [
      "0.7941345600920069\n"
     ]
    }
   ],
   "source": [
    "classifier = RandomForestClassifier(random_state=42)\n",
    "predictor = classifier.fit(X_train, y_train)\n",
    "y_pred = predictor.predict(X_val)\n",
    "accuracy_rfc = accuracy_score(y_val, y_pred)\n",
    "model_dict['random_forest_classifier'] = accuracy_rfc\n",
    "print(accuracy_rfc)"
   ]
  },
  {
   "cell_type": "markdown",
   "id": "b4fc8ca1",
   "metadata": {
    "papermill": {
     "duration": 0.133611,
     "end_time": "2022-06-30T23:38:04.418009",
     "exception": false,
     "start_time": "2022-06-30T23:38:04.284398",
     "status": "completed"
    },
    "tags": []
   },
   "source": [
    "#### Gradient Boosting Classifier"
   ]
  },
  {
   "cell_type": "code",
   "execution_count": 42,
   "id": "a7403dd0",
   "metadata": {
    "execution": {
     "iopub.execute_input": "2022-06-30T23:38:04.696875Z",
     "iopub.status.busy": "2022-06-30T23:38:04.696069Z",
     "iopub.status.idle": "2022-06-30T23:38:05.372566Z",
     "shell.execute_reply": "2022-06-30T23:38:05.373211Z",
     "shell.execute_reply.started": "2022-06-30T20:20:28.111569Z"
    },
    "papermill": {
     "duration": 0.820367,
     "end_time": "2022-06-30T23:38:05.373413",
     "exception": false,
     "start_time": "2022-06-30T23:38:04.553046",
     "status": "completed"
    },
    "tags": []
   },
   "outputs": [
    {
     "name": "stdout",
     "output_type": "stream",
     "text": [
      "0.8039102932719954\n"
     ]
    }
   ],
   "source": [
    "classifier = GradientBoostingClassifier(random_state=42)\n",
    "predictor_gbc = classifier.fit(X_train, y_train)\n",
    "y_pred = predictor_gbc.predict(X_val)\n",
    "accuracy_gbc = accuracy_score(y_val, y_pred)\n",
    "model_dict['gradient_boosting_classifier'] = accuracy_gbc\n",
    "print(accuracy_gbc)"
   ]
  },
  {
   "cell_type": "markdown",
   "id": "72f0f261",
   "metadata": {
    "papermill": {
     "duration": 0.134097,
     "end_time": "2022-06-30T23:38:05.641268",
     "exception": false,
     "start_time": "2022-06-30T23:38:05.507171",
     "status": "completed"
    },
    "tags": []
   },
   "source": [
    "#### XGBoost Classifier"
   ]
  },
  {
   "cell_type": "code",
   "execution_count": 43,
   "id": "49231d3b",
   "metadata": {
    "execution": {
     "iopub.execute_input": "2022-06-30T23:38:06.053592Z",
     "iopub.status.busy": "2022-06-30T23:38:06.052796Z",
     "iopub.status.idle": "2022-06-30T23:38:07.974204Z",
     "shell.execute_reply": "2022-06-30T23:38:07.974922Z",
     "shell.execute_reply.started": "2022-06-30T20:20:28.801814Z"
    },
    "papermill": {
     "duration": 2.163697,
     "end_time": "2022-06-30T23:38:07.975104",
     "exception": false,
     "start_time": "2022-06-30T23:38:05.811407",
     "status": "completed"
    },
    "tags": []
   },
   "outputs": [
    {
     "name": "stdout",
     "output_type": "stream",
     "text": [
      "0.8067855089131685\n"
     ]
    }
   ],
   "source": [
    "classifier = XGBClassifier(random_state=42, eval_metric='logloss')\n",
    "predictor_xgb = classifier.fit(X_train, y_train)\n",
    "y_pred = predictor_xgb.predict(X_val)\n",
    "accuracy_xgb = accuracy_score(y_val, y_pred)\n",
    "model_dict['xgboost_classifier'] = accuracy_xgb\n",
    "print(accuracy_xgb)"
   ]
  },
  {
   "cell_type": "markdown",
   "id": "2b57c90b",
   "metadata": {
    "papermill": {
     "duration": 0.138033,
     "end_time": "2022-06-30T23:38:08.252010",
     "exception": false,
     "start_time": "2022-06-30T23:38:08.113977",
     "status": "completed"
    },
    "tags": []
   },
   "source": [
    "#### AdaBoost Classifier"
   ]
  },
  {
   "cell_type": "code",
   "execution_count": 44,
   "id": "d9e80e08",
   "metadata": {
    "execution": {
     "iopub.execute_input": "2022-06-30T23:38:08.532968Z",
     "iopub.status.busy": "2022-06-30T23:38:08.532061Z",
     "iopub.status.idle": "2022-06-30T23:38:09.437298Z",
     "shell.execute_reply": "2022-06-30T23:38:09.437811Z",
     "shell.execute_reply.started": "2022-06-30T20:20:31.320584Z"
    },
    "papermill": {
     "duration": 1.049274,
     "end_time": "2022-06-30T23:38:09.437966",
     "exception": false,
     "start_time": "2022-06-30T23:38:08.388692",
     "status": "completed"
    },
    "tags": []
   },
   "outputs": [
    {
     "name": "stdout",
     "output_type": "stream",
     "text": [
      "0.7814836112708453\n"
     ]
    }
   ],
   "source": [
    "dtc=DecisionTreeClassifier(criterion='entropy', random_state=42)\n",
    "classifier = AdaBoostClassifier(dtc,random_state=42)\n",
    "predictor = classifier.fit(X_train, y_train)\n",
    "y_pred = predictor.predict(X_val)\n",
    "accuracy_ada = accuracy_score(y_val, y_pred)\n",
    "model_dict['adaboost_classifier'] = accuracy_ada\n",
    "print(accuracy_ada)"
   ]
  },
  {
   "cell_type": "markdown",
   "id": "f5d515ad",
   "metadata": {
    "papermill": {
     "duration": 0.137033,
     "end_time": "2022-06-30T23:38:09.713712",
     "exception": false,
     "start_time": "2022-06-30T23:38:09.576679",
     "status": "completed"
    },
    "tags": []
   },
   "source": [
    "#### LGBM Classifier\n",
    "##### If you want to lear more about the LGBM classifier I suggest looking at this kernel: https://www.kaggle.com/code/prashant111/lightgbm-classifier-in-python/notebook"
   ]
  },
  {
   "cell_type": "code",
   "execution_count": 45,
   "id": "10c7d6c7",
   "metadata": {
    "execution": {
     "iopub.execute_input": "2022-06-30T23:38:10.024141Z",
     "iopub.status.busy": "2022-06-30T23:38:10.023295Z",
     "iopub.status.idle": "2022-06-30T23:38:10.209905Z",
     "shell.execute_reply": "2022-06-30T23:38:10.210736Z",
     "shell.execute_reply.started": "2022-06-30T20:20:32.224477Z"
    },
    "papermill": {
     "duration": 0.329971,
     "end_time": "2022-06-30T23:38:10.211028",
     "exception": false,
     "start_time": "2022-06-30T23:38:09.881057",
     "status": "completed"
    },
    "tags": []
   },
   "outputs": [
    {
     "name": "stdout",
     "output_type": "stream",
     "text": [
      "0.8085106382978723\n"
     ]
    }
   ],
   "source": [
    "classifier = LGBMClassifier(random_state=42)\n",
    "predictor_lgbm = classifier.fit(X_train, y_train)\n",
    "y_pred = predictor_lgbm.predict(X_val)\n",
    "accuracy_lgbm = accuracy_score(y_val, y_pred)\n",
    "model_dict['lgbm_classifier'] = accuracy_lgbm\n",
    "print(accuracy_lgbm)"
   ]
  },
  {
   "cell_type": "markdown",
   "id": "9b2ae021",
   "metadata": {
    "papermill": {
     "duration": 0.138107,
     "end_time": "2022-06-30T23:38:10.488243",
     "exception": false,
     "start_time": "2022-06-30T23:38:10.350136",
     "status": "completed"
    },
    "tags": []
   },
   "source": [
    "<div style=\"color:white;    \n",
    "           display:fill;\n",
    "           border-radius:5px;\n",
    "           background-color:#14C38E;\n",
    "           font-size:110%;\n",
    "           font-family:Verdana;\n",
    "           letter-spacing:0.5px;\n",
    "           display:flex;\n",
    "            justify-content:center;\">\n",
    "\n",
    "<h3 style=\"padding: 1rem;\n",
    "              color:white;\n",
    "          text-align:center;\n",
    "          margin:0 auto;\n",
    "          \">\n",
    " Visualize model accuracies\n",
    "</h3>\n",
    "</div>"
   ]
  },
  {
   "cell_type": "markdown",
   "id": "afd3f8f9",
   "metadata": {
    "papermill": {
     "duration": 0.135145,
     "end_time": "2022-06-30T23:38:10.759818",
     "exception": false,
     "start_time": "2022-06-30T23:38:10.624673",
     "status": "completed"
    },
    "tags": []
   },
   "source": [
    "### Function to visualizing model accuracies"
   ]
  },
  {
   "cell_type": "code",
   "execution_count": 46,
   "id": "eeba94df",
   "metadata": {
    "execution": {
     "iopub.execute_input": "2022-06-30T23:38:11.041736Z",
     "iopub.status.busy": "2022-06-30T23:38:11.040818Z",
     "iopub.status.idle": "2022-06-30T23:38:11.042725Z",
     "shell.execute_reply": "2022-06-30T23:38:11.043135Z",
     "shell.execute_reply.started": "2022-06-30T20:20:32.419024Z"
    },
    "papermill": {
     "duration": 0.146802,
     "end_time": "2022-06-30T23:38:11.043294",
     "exception": false,
     "start_time": "2022-06-30T23:38:10.896492",
     "status": "completed"
    },
    "tags": []
   },
   "outputs": [],
   "source": [
    "def visualize_model_accuracies(model_dict):\n",
    "    model_accuracies_df = pd.DataFrame(columns=['Model', 'Accuracy'])\n",
    "    model_accuracies_df['Model'] = model_dict.keys()\n",
    "    model_accuracies_df['Accuracy'] = model_dict.values()\n",
    "    model_accuracies_df.sort_values('Accuracy', inplace=True, ascending=False)\n",
    "\n",
    "    plt.figure(figsize=(28,8),)\n",
    "    plt.ylabel(\"Models\", fontsize=16)\n",
    "    plt.xlabel(\"Accuracy\", fontsize=16)\n",
    "    plt.title(\"Model Accuracies\", fontsize=22)\n",
    "    sns.barplot(y = pd.to_numeric(model_accuracies_df['Accuracy']), x = model_accuracies_df['Model'], palette='mako')\n",
    "    plt.margins(x=0.005)\n",
    "    plt.show()\n",
    "\n",
    "    print(colored(\"The 3 models with the highest accuracies are:\"))\n",
    "    print(f\"{model_accuracies_df.iloc[:3, ]}\")"
   ]
  },
  {
   "cell_type": "code",
   "execution_count": 47,
   "id": "cd0e0feb",
   "metadata": {
    "execution": {
     "iopub.execute_input": "2022-06-30T23:38:11.344413Z",
     "iopub.status.busy": "2022-06-30T23:38:11.331629Z",
     "iopub.status.idle": "2022-06-30T23:38:11.598404Z",
     "shell.execute_reply": "2022-06-30T23:38:11.598974Z",
     "shell.execute_reply.started": "2022-06-30T20:20:32.428109Z"
    },
    "papermill": {
     "duration": 0.418826,
     "end_time": "2022-06-30T23:38:11.599185",
     "exception": false,
     "start_time": "2022-06-30T23:38:11.180359",
     "status": "completed"
    },
    "tags": []
   },
   "outputs": [
    {
     "data": {
      "image/png": "[encoded data removed]",
      "text/plain": [
       "<Figure size 2016x576 with 1 Axes>"
      ]
     },
     "metadata": {
      "needs_background": "light"
     },
     "output_type": "display_data"
    },
    {
     "name": "stdout",
     "output_type": "stream",
     "text": [
      "The 3 models with the highest accuracies are:\u001b[0m\n",
      "                           Model  Accuracy\n",
      "10               lgbm_classifier  0.808511\n",
      "8             xgboost_classifier  0.806786\n",
      "7   gradient_boosting_classifier  0.803910\n"
     ]
    }
   ],
   "source": [
    "visualize_model_accuracies(model_dict)"
   ]
  },
  {
   "cell_type": "markdown",
   "id": "490f8aaf",
   "metadata": {
    "papermill": {
     "duration": 0.137666,
     "end_time": "2022-06-30T23:38:11.876581",
     "exception": false,
     "start_time": "2022-06-30T23:38:11.738915",
     "status": "completed"
    },
    "tags": []
   },
   "source": [
    "#### The three most accurate models include: XGBoost Classifer, Gradient Boosting Classifier, and SVC.\n",
    "##### We will focus on tuning their hyperparameters and once again compare their accuracies."
   ]
  },
  {
   "cell_type": "markdown",
   "id": "1dffed39",
   "metadata": {
    "papermill": {
     "duration": 0.138336,
     "end_time": "2022-06-30T23:38:12.152540",
     "exception": false,
     "start_time": "2022-06-30T23:38:12.014204",
     "status": "completed"
    },
    "tags": []
   },
   "source": [
    "<div style=\"color:white;    \n",
    "           display:fill;\n",
    "           border-radius:5px;\n",
    "           background-color:#14C38E;\n",
    "           font-size:110%;\n",
    "           font-family:Verdana;\n",
    "           letter-spacing:0.5px;\n",
    "           display:flex;\n",
    "            justify-content:center;\">\n",
    "\n",
    "<h3 style=\"padding: 1rem;\n",
    "              color:white;\n",
    "          text-align:center;\n",
    "          margin:0 auto;\n",
    "          \">\n",
    " Tuning Hyperparameters 🔧\n",
    "</h3>\n",
    "</div>"
   ]
  },
  {
   "cell_type": "markdown",
   "id": "0147dd6d",
   "metadata": {
    "papermill": {
     "duration": 0.137816,
     "end_time": "2022-06-30T23:38:12.429057",
     "exception": false,
     "start_time": "2022-06-30T23:38:12.291241",
     "status": "completed"
    },
    "tags": []
   },
   "source": [
    "### I will now perform Grid Search on the three candidate models\n",
    "#### Below I define yet another dictionary to keep track of the models"
   ]
  },
  {
   "cell_type": "code",
   "execution_count": 48,
   "id": "ecd4affa",
   "metadata": {
    "execution": {
     "iopub.execute_input": "2022-06-30T23:38:12.706148Z",
     "iopub.status.busy": "2022-06-30T23:38:12.705206Z",
     "iopub.status.idle": "2022-06-30T23:38:12.707538Z",
     "shell.execute_reply": "2022-06-30T23:38:12.706982Z",
     "shell.execute_reply.started": "2022-06-30T20:20:32.710100Z"
    },
    "papermill": {
     "duration": 0.142511,
     "end_time": "2022-06-30T23:38:12.707651",
     "exception": false,
     "start_time": "2022-06-30T23:38:12.565140",
     "status": "completed"
    },
    "tags": []
   },
   "outputs": [],
   "source": [
    "gs_model_dict = {}"
   ]
  },
  {
   "cell_type": "markdown",
   "id": "f915a4c7",
   "metadata": {
    "papermill": {
     "duration": 0.138057,
     "end_time": "2022-06-30T23:38:12.985692",
     "exception": false,
     "start_time": "2022-06-30T23:38:12.847635",
     "status": "completed"
    },
    "tags": []
   },
   "source": [
    "#### Grid Search for XGBoost Classifer (XGBoost produces the best results so far)"
   ]
  },
  {
   "cell_type": "code",
   "execution_count": 49,
   "id": "d0655b9a",
   "metadata": {
    "execution": {
     "iopub.execute_input": "2022-06-30T23:38:13.274995Z",
     "iopub.status.busy": "2022-06-30T23:38:13.274119Z",
     "iopub.status.idle": "2022-06-30T23:41:13.017740Z",
     "shell.execute_reply": "2022-06-30T23:41:13.018452Z",
     "shell.execute_reply.started": "2022-06-30T20:20:32.715658Z"
    },
    "papermill": {
     "duration": 179.893377,
     "end_time": "2022-06-30T23:41:13.018676",
     "exception": false,
     "start_time": "2022-06-30T23:38:13.125299",
     "status": "completed"
    },
    "tags": []
   },
   "outputs": [
    {
     "name": "stdout",
     "output_type": "stream",
     "text": [
      "\n",
      "\n",
      "0.8102357676825762\n"
     ]
    }
   ],
   "source": [
    "parameters_xgbc = {\n",
    "    'learning_rate': [0.1,0.125, 0.075],\n",
    "    'n_estimators': [105, 110, 600],\n",
    "    'max_depth': [3, 4, 5, 6]\n",
    "}\n",
    "\n",
    "clf_xgbc = gscv(XGBClassifier(random_state=42, eval_metric='logloss', base_score=0.5, booster='gbtree', gamma=0.5), parameters_xgbc)\n",
    "clf_xgbc.fit(X_train, y_train)\n",
    "y_pred_xgb = clf_xgbc.predict(X_val)\n",
    "accuracy_xgb = accuracy_score(y_val, y_pred_xgb)\n",
    "gs_model_dict['xgboost_classifier'] = accuracy_xgb\n",
    "print(f'\\n\\n{accuracy_xgb}')"
   ]
  },
  {
   "cell_type": "markdown",
   "id": "7fb30420",
   "metadata": {
    "papermill": {
     "duration": 0.168744,
     "end_time": "2022-06-30T23:41:13.411504",
     "exception": false,
     "start_time": "2022-06-30T23:41:13.242760",
     "status": "completed"
    },
    "tags": []
   },
   "source": [
    "### Grid Search Gradient Boosting Classifier "
   ]
  },
  {
   "cell_type": "code",
   "execution_count": 50,
   "id": "1b984e94",
   "metadata": {
    "execution": {
     "iopub.execute_input": "2022-06-30T23:41:13.687613Z",
     "iopub.status.busy": "2022-06-30T23:41:13.686830Z",
     "iopub.status.idle": "2022-06-30T23:41:13.689272Z",
     "shell.execute_reply": "2022-06-30T23:41:13.688814Z",
     "shell.execute_reply.started": "2022-06-30T20:23:31.503946Z"
    },
    "papermill": {
     "duration": 0.142319,
     "end_time": "2022-06-30T23:41:13.689392",
     "exception": false,
     "start_time": "2022-06-30T23:41:13.547073",
     "status": "completed"
    },
    "tags": []
   },
   "outputs": [],
   "source": [
    "# parameters_gbc = {\n",
    "#     'learning_rate': [0.1,0.125, 0.075],\n",
    "#     'n_estimators': [100, 105, 110],\n",
    "#     'max_depth': [3, 4, 5, 6, 7]\n",
    "# }\n",
    "\n",
    "# clf_gbc = gscv(GradientBoostingClassifier(random_state=42), parameters_gbc)\n",
    "# clf_gbc.fit(X_train, y_train)\n",
    "# y_pred_gbc = clf_gbc.predict(X_val)\n",
    "# accuracy_gbc = accuracy_score(y_val, y_pred_gbc)\n",
    "# gs_model_dict['gradient_boosting_classifier'] = accuracy_gbc\n",
    "# print(f'\\n\\n{accuracy_gbc}')"
   ]
  },
  {
   "cell_type": "markdown",
   "id": "662e9521",
   "metadata": {
    "papermill": {
     "duration": 0.137162,
     "end_time": "2022-06-30T23:41:13.963279",
     "exception": false,
     "start_time": "2022-06-30T23:41:13.826117",
     "status": "completed"
    },
    "tags": []
   },
   "source": [
    "### Grid Search LGBM Classifier"
   ]
  },
  {
   "cell_type": "code",
   "execution_count": 51,
   "id": "ca127eed",
   "metadata": {
    "execution": {
     "iopub.execute_input": "2022-06-30T23:41:14.243189Z",
     "iopub.status.busy": "2022-06-30T23:41:14.242635Z",
     "iopub.status.idle": "2022-06-30T23:44:20.536191Z",
     "shell.execute_reply": "2022-06-30T23:44:20.536686Z",
     "shell.execute_reply.started": "2022-06-30T20:23:31.512317Z"
    },
    "papermill": {
     "duration": 186.43707,
     "end_time": "2022-06-30T23:44:20.536837",
     "exception": false,
     "start_time": "2022-06-30T23:41:14.099767",
     "status": "completed"
    },
    "tags": []
   },
   "outputs": [
    {
     "name": "stdout",
     "output_type": "stream",
     "text": [
      "0.8142610695802185\n"
     ]
    }
   ],
   "source": [
    "parameters_lgbm = {\n",
    "    'learning_rate':[0.1, 0.085, 0.05, 0.02],\n",
    "    'n_estimators':[110,100,90],\n",
    "    'min_child_samples': [25, 30, 40, 50],\n",
    "    'num_leaves': [31, 34, 37, 40, 43]\n",
    "}\n",
    "\n",
    "clf_lgbm = gscv(LGBMClassifier(random_state=42, max_depth=8, subsample=0.6), parameters_lgbm)\n",
    "clf_lgbm.fit(X_train, y_train)\n",
    "y_pred_lgbm = clf_lgbm.predict(X_val)\n",
    "accuracy_lgbm = accuracy_score(y_val, y_pred_lgbm)\n",
    "gs_model_dict['lgbm_classifier'] = accuracy_lgbm\n",
    "print(accuracy_lgbm)"
   ]
  },
  {
   "cell_type": "markdown",
   "id": "f0634b4b",
   "metadata": {
    "papermill": {
     "duration": 0.13721,
     "end_time": "2022-06-30T23:44:20.809731",
     "exception": false,
     "start_time": "2022-06-30T23:44:20.672521",
     "status": "completed"
    },
    "tags": []
   },
   "source": [
    "### Grid Search SVC (currently 4th best)"
   ]
  },
  {
   "cell_type": "code",
   "execution_count": 52,
   "id": "ddc74ed1",
   "metadata": {
    "execution": {
     "iopub.execute_input": "2022-06-30T23:44:21.095003Z",
     "iopub.status.busy": "2022-06-30T23:44:21.094120Z",
     "iopub.status.idle": "2022-06-30T23:44:29.577024Z",
     "shell.execute_reply": "2022-06-30T23:44:29.576193Z",
     "shell.execute_reply.started": "2022-06-30T20:26:37.519470Z"
    },
    "papermill": {
     "duration": 8.630053,
     "end_time": "2022-06-30T23:44:29.577171",
     "exception": false,
     "start_time": "2022-06-30T23:44:20.947118",
     "status": "completed"
    },
    "tags": []
   },
   "outputs": [
    {
     "name": "stdout",
     "output_type": "stream",
     "text": [
      "\n",
      "\n",
      "0.7952846463484762\n"
     ]
    }
   ],
   "source": [
    "parameters_svc = {\n",
    "    'C':[1.5],\n",
    "    'kernel':['rbf']}\n",
    "clf_svc = gscv(SVC(random_state=42), parameters_svc)\n",
    "clf_svc.fit(X_train, y_train)\n",
    "y_pred_svc = clf_svc.predict(X_val)\n",
    "accuracy_svc = accuracy_score(y_val, y_pred_svc)\n",
    "gs_model_dict['SVC'] = accuracy_svc\n",
    "print(f'\\n\\n{accuracy_svc}')"
   ]
  },
  {
   "cell_type": "markdown",
   "id": "694cf23e",
   "metadata": {
    "papermill": {
     "duration": 0.138205,
     "end_time": "2022-06-30T23:44:29.918235",
     "exception": false,
     "start_time": "2022-06-30T23:44:29.780030",
     "status": "completed"
    },
    "tags": []
   },
   "source": [
    "<div style=\"color:white;    \n",
    "           display:fill;\n",
    "           border-radius:5px;\n",
    "           background-color:#14C38E;\n",
    "           font-size:110%;\n",
    "           font-family:Verdana;\n",
    "           letter-spacing:0.5px;\n",
    "           display:flex;\n",
    "            justify-content:center;\">\n",
    "\n",
    "<h3 style=\"padding: 1rem;\n",
    "              color:white;\n",
    "          text-align:center;\n",
    "          margin:0 auto;\n",
    "          \">\n",
    " Voting 🗳\n",
    "</h3>\n",
    "</div>"
   ]
  },
  {
   "cell_type": "code",
   "execution_count": 53,
   "id": "46676335",
   "metadata": {
    "execution": {
     "iopub.execute_input": "2022-06-30T23:44:30.201354Z",
     "iopub.status.busy": "2022-06-30T23:44:30.200517Z",
     "iopub.status.idle": "2022-06-30T23:50:44.583084Z",
     "shell.execute_reply": "2022-06-30T23:50:44.583544Z",
     "shell.execute_reply.started": "2022-06-30T20:26:46.669690Z"
    },
    "papermill": {
     "duration": 374.52618,
     "end_time": "2022-06-30T23:50:44.583701",
     "exception": false,
     "start_time": "2022-06-30T23:44:30.057521",
     "status": "completed"
    },
    "tags": []
   },
   "outputs": [
    {
     "data": {
      "text/plain": [
       "0.8136860264519838"
      ]
     },
     "execution_count": 53,
     "metadata": {},
     "output_type": "execute_result"
    }
   ],
   "source": [
    "voting_ensemble = VotingClassifier(estimators= \n",
    "                                   [('SVC', clf_svc),\n",
    "                                    ('XBG', clf_xgbc),\n",
    "                                    ('LGBM', clf_lgbm)],\n",
    "                              voting = 'hard')\n",
    "\n",
    "final_predictor = voting_ensemble.fit(X_train, y_train)\n",
    "y_pred = final_predictor.predict(X_val)\n",
    "accuracy_score(y_val, y_pred)"
   ]
  },
  {
   "cell_type": "code",
   "execution_count": 54,
   "id": "e6855949",
   "metadata": {
    "execution": {
     "iopub.execute_input": "2022-06-30T23:50:44.979489Z",
     "iopub.status.busy": "2022-06-30T23:50:44.978683Z",
     "iopub.status.idle": "2022-06-30T23:50:44.987080Z",
     "shell.execute_reply": "2022-06-30T23:50:44.987679Z",
     "shell.execute_reply.started": "2022-06-30T20:32:58.984521Z"
    },
    "papermill": {
     "duration": 0.263865,
     "end_time": "2022-06-30T23:50:44.987872",
     "exception": false,
     "start_time": "2022-06-30T23:50:44.724007",
     "status": "completed"
    },
    "tags": []
   },
   "outputs": [
    {
     "name": "stdout",
     "output_type": "stream",
     "text": [
      "Performance on validation data: 0.8136860264519838\n",
      "Confusion Matrix : \n",
      " [[669 194]\n",
      " [130 746]]\n"
     ]
    }
   ],
   "source": [
    "from sklearn.metrics import f1_score, confusion_matrix\n",
    "print(\"Performance on validation data:\", f1_score(y_val, y_pred, average='micro'))\n",
    "\n",
    "cm = confusion_matrix(y_val, y_pred) \n",
    "print (\"Confusion Matrix : \\n\", cm)"
   ]
  },
  {
   "cell_type": "markdown",
   "id": "ef167475",
   "metadata": {
    "papermill": {
     "duration": 0.171187,
     "end_time": "2022-06-30T23:50:45.386955",
     "exception": false,
     "start_time": "2022-06-30T23:50:45.215768",
     "status": "completed"
    },
    "tags": []
   },
   "source": [
    "### Visualize the finals model accuracies"
   ]
  },
  {
   "cell_type": "code",
   "execution_count": 55,
   "id": "70c77474",
   "metadata": {
    "execution": {
     "iopub.execute_input": "2022-06-30T23:50:45.667577Z",
     "iopub.status.busy": "2022-06-30T23:50:45.666741Z",
     "iopub.status.idle": "2022-06-30T23:50:45.669040Z",
     "shell.execute_reply": "2022-06-30T23:50:45.668587Z",
     "shell.execute_reply.started": "2022-06-30T20:32:59.006307Z"
    },
    "papermill": {
     "duration": 0.144308,
     "end_time": "2022-06-30T23:50:45.669149",
     "exception": false,
     "start_time": "2022-06-30T23:50:45.524841",
     "status": "completed"
    },
    "tags": []
   },
   "outputs": [],
   "source": [
    "# visualize_model_accuracies(gs_model_dict)"
   ]
  },
  {
   "cell_type": "markdown",
   "id": "30e58b94",
   "metadata": {
    "papermill": {
     "duration": 0.138511,
     "end_time": "2022-06-30T23:50:45.947025",
     "exception": false,
     "start_time": "2022-06-30T23:50:45.808514",
     "status": "completed"
    },
    "tags": []
   },
   "source": [
    "### Final Classifier"
   ]
  },
  {
   "cell_type": "code",
   "execution_count": 56,
   "id": "d25bc0f7",
   "metadata": {
    "execution": {
     "iopub.execute_input": "2022-06-30T23:50:46.227351Z",
     "iopub.status.busy": "2022-06-30T23:50:46.226515Z",
     "iopub.status.idle": "2022-06-30T23:50:46.229028Z",
     "shell.execute_reply": "2022-06-30T23:50:46.228528Z",
     "shell.execute_reply.started": "2022-06-30T20:32:59.017144Z"
    },
    "papermill": {
     "duration": 0.144257,
     "end_time": "2022-06-30T23:50:46.229136",
     "exception": false,
     "start_time": "2022-06-30T23:50:46.084879",
     "status": "completed"
    },
    "tags": []
   },
   "outputs": [],
   "source": [
    "classifier = final_predictor"
   ]
  },
  {
   "cell_type": "markdown",
   "id": "cab285e4",
   "metadata": {
    "papermill": {
     "duration": 0.138746,
     "end_time": "2022-06-30T23:50:46.504570",
     "exception": false,
     "start_time": "2022-06-30T23:50:46.365824",
     "status": "completed"
    },
    "tags": []
   },
   "source": [
    "#### Note:\n",
    "##### If you improve your model selection, I am sure that the hyperparameters for XGBoost will be better, allowing for an improved accuracy"
   ]
  },
  {
   "cell_type": "markdown",
   "id": "41ea8b48",
   "metadata": {
    "papermill": {
     "duration": 0.138925,
     "end_time": "2022-06-30T23:50:46.780974",
     "exception": false,
     "start_time": "2022-06-30T23:50:46.642049",
     "status": "completed"
    },
    "tags": []
   },
   "source": [
    "### Submission"
   ]
  },
  {
   "cell_type": "code",
   "execution_count": 57,
   "id": "737762cb",
   "metadata": {
    "execution": {
     "iopub.execute_input": "2022-06-30T23:50:47.068247Z",
     "iopub.status.busy": "2022-06-30T23:50:47.067417Z",
     "iopub.status.idle": "2022-06-30T23:50:48.021049Z",
     "shell.execute_reply": "2022-06-30T23:50:48.020134Z",
     "shell.execute_reply.started": "2022-06-30T20:32:59.027563Z"
    },
    "papermill": {
     "duration": 1.100105,
     "end_time": "2022-06-30T23:50:48.021215",
     "exception": false,
     "start_time": "2022-06-30T23:50:46.921110",
     "status": "completed"
    },
    "tags": []
   },
   "outputs": [],
   "source": [
    "submission = classifier.predict(test_data)\n",
    "\n",
    "data = {\n",
    "    'PassengerId': np.array(PASSENGER_ID).reshape(len(PASSENGER_ID)),\n",
    "    'Transported': np.array(submission).astype('bool')\n",
    "}\n",
    "\n",
    "submission_df = pd.DataFrame(data=data).reset_index()\n",
    "submission_df.drop(columns=['index'], inplace=True, axis=1)\n",
    "submission_df.to_csv(\"submission.csv\", index=False)"
   ]
  },
  {
   "cell_type": "markdown",
   "id": "8300beff",
   "metadata": {
    "papermill": {
     "duration": 0.137353,
     "end_time": "2022-06-30T23:50:48.296021",
     "exception": false,
     "start_time": "2022-06-30T23:50:48.158668",
     "status": "completed"
    },
    "tags": []
   },
   "source": [
    "<div style=\"color:white;    \n",
    "           display:fill;\n",
    "           border-radius:5px;\n",
    "           background-color:#FFEE63;\n",
    "           font-size:110%;\n",
    "           font-family:Verdana;\n",
    "           letter-spacing:0.5px;\n",
    "           display:flex;\n",
    "           justify-content:center;\n",
    "           padding: 2rem 0\">\n",
    "\n",
    "<h3 style=\"padding: 1rem;\n",
    "           color:black;\n",
    "           text-align:center;\n",
    "           margin:0 auto;\n",
    "           font-weight: 600\n",
    "          \">\n",
    "WORK IN PROGRESS ⚠\n",
    "</h3>\n",
    "</div>\n",
    "\n",
    "* Clean-Up Code\n",
    "* Improve Accuracy by improving data preprocessing\n",
    "* Work on a DL Model\n"
   ]
  },
  {
   "cell_type": "markdown",
   "id": "38290494",
   "metadata": {
    "papermill": {
     "duration": 0.137949,
     "end_time": "2022-06-30T23:50:48.571720",
     "exception": false,
     "start_time": "2022-06-30T23:50:48.433771",
     "status": "completed"
    },
    "tags": []
   },
   "source": [
    "### Upvote if you thought the kernel was insightful 👍\n",
    "### If you have any suggestions feel free to leave a comment, I am willing to listen and learn :)"
   ]
  }
 ],
 "metadata": {
  "kernelspec": {
   "display_name": "Python 3 (ipykernel)",
   "language": "python",
   "name": "python3"
  },
  "language_info": {
   "codemirror_mode": {
    "name": "ipython",
    "version": 3
   },
   "file_extension": ".py",
   "mimetype": "text/x-python",
   "name": "python",
   "nbconvert_exporter": "python",
   "pygments_lexer": "ipython3",
   "version": "3.9.9"
  },
  "papermill": {
   "default_parameters": {},
   "duration": 818.617572,
   "end_time": "2022-06-30T23:50:50.030639",
   "environment_variables": {},
   "exception": null,
   "input_path": "__notebook__.ipynb",
   "output_path": "__notebook__.ipynb",
   "parameters": {},
   "start_time": "2022-06-30T23:37:11.413067",
   "version": "2.3.3"
  }
 },
 "nbformat": 4,
 "nbformat_minor": 5
}
